{
  "nbformat": 4,
  "nbformat_minor": 0,
  "metadata": {
    "colab": {
      "provenance": [],
      "include_colab_link": true
    },
    "kernelspec": {
      "name": "python3",
      "display_name": "Python 3"
    }
  },
  "cells": [
    {
      "cell_type": "markdown",
      "metadata": {
        "id": "view-in-github",
        "colab_type": "text"
      },
      "source": [
        "<a href=\"https://colab.research.google.com/github/Serendipity-Song/Pandas_Numpy_2020/blob/main/%EC%9D%B8%EA%B5%AC%ED%86%B5%EA%B3%84_%EC%98%88%EC%A0%9C1.ipynb\" target=\"_parent\"><img src=\"https://colab.research.google.com/assets/colab-badge.svg\" alt=\"Open In Colab\"/></a>"
      ]
    },
    {
      "cell_type": "code",
      "metadata": {
        "colab": {
          "resources": {
            "http://localhost:8080/nbextensions/google.colab/files.js": {
              "data": "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",
              "ok": true,
              "headers": [
                [
                  "content-type",
                  "application/javascript"
                ]
              ],
              "status": 200,
              "status_text": ""
            }
          },
          "base_uri": "https://localhost:8080/",
          "height": 76
        },
        "id": "KBen2t9VUXOM",
        "outputId": "c9a57dee-7ef3-48b0-e4c7-96a86500b8a3"
      },
      "source": [
        "# 인구 통계 데이터\n",
        " \n",
        "# 파일업로드 : age.csv\n",
        "\n",
        "from google.colab import files\n",
        "uploaded =  files.upload()"
      ],
      "execution_count": null,
      "outputs": [
        {
          "output_type": "display_data",
          "data": {
            "text/html": [
              "\n",
              "     <input type=\"file\" id=\"files-4e1847ad-9b67-4db5-b3f6-68661cf2ec73\" name=\"files[]\" multiple disabled\n",
              "        style=\"border:none\" />\n",
              "     <output id=\"result-4e1847ad-9b67-4db5-b3f6-68661cf2ec73\">\n",
              "      Upload widget is only available when the cell has been executed in the\n",
              "      current browser session. Please rerun this cell to enable.\n",
              "      </output>\n",
              "      <script src=\"/nbextensions/google.colab/files.js\"></script> "
            ],
            "text/plain": [
              "<IPython.core.display.HTML object>"
            ]
          },
          "metadata": {
            "tags": []
          }
        },
        {
          "output_type": "stream",
          "text": [
            "Saving age.csv to age.csv\n"
          ],
          "name": "stdout"
        }
      ]
    },
    {
      "cell_type": "code",
      "metadata": {
        "colab": {
          "base_uri": "https://localhost:8080/"
        },
        "id": "3pMiVL2yWXRU",
        "outputId": "8cae0c14-3f9c-477f-8d5a-9b22583fe22a"
      },
      "source": [
        "# 자료 읽어 확인하기\n",
        "\n",
        "import csv\n",
        "\n",
        "f = open('age.csv', encoding='cp949')\n",
        "\n",
        "data = csv.reader(f)\n",
        "\n",
        "next(data) \n",
        "\n",
        "for row in data :\n",
        "    print(row)\n",
        "    break"
      ],
      "execution_count": null,
      "outputs": [
        {
          "output_type": "stream",
          "text": [
            "['서울특별시  (1100000000)', '9857426', '9857426', '61253', '70532', '74322', '72482', '71688', '78941', '75386', '75929', '71772', '76157', '80577', '74502', '72380', '80264', '83081', '83791', '93326', '108584', '105344', '112807', '120957', '125632', '134735', '143930', '149420', '159845', '161550', '150999', '149562', '150485', '146573', '148015', '150838', '149335', '163855', '173092', '173138', '169187', '165335', '139821', '150481', '147416', '150031', '162292', '168414', '171738', '181275', '175113', '172711', '168518', '157576', '144996', '154444', '153733', '146916', '158349', '163134', '168880', '158018', '147497', '147029', '133804', '141178', '119297', '105263', '114400', '80233', '89224', '89871', '88753', '90591', '73185', '64285', '64933', '63515', '74898', '60021', '50860', '49861', '43160', '38593', '34377', '31713', '26206', '21753', '19206', '15377', '13515', '12208', '10165', '8200', '5892', '4695', '3589', '3501', '2569', '1851', '1436', '1010', '736', '5519']\n"
          ],
          "name": "stdout"
        }
      ]
    },
    {
      "cell_type": "code",
      "metadata": {
        "id": "RMNDwPwVWXqz"
      },
      "source": [
        "print('신도림' in '서울특별시 구로구 신도림동(1153051000)')\n",
        "print('1153' in '서울특별시 구로구 신도림동(1153051000)')"
      ],
      "execution_count": null,
      "outputs": []
    },
    {
      "cell_type": "code",
      "metadata": {
        "id": "cjvf6C4xWXuC"
      },
      "source": [
        "# 신도림 지역 자료만 검색\n",
        "\n",
        "import csv\n",
        "\n",
        "f = open('age.csv', encoding='cp949')\n",
        "data = csv.reader(f)\n",
        "\n",
        "for row in data :\n",
        "    if '신도림' in row[0] :\n",
        "        print(row)"
      ],
      "execution_count": null,
      "outputs": []
    },
    {
      "cell_type": "code",
      "metadata": {
        "id": "mzvNU0dwWXw4"
      },
      "source": [
        "# 신도림의 0~100세 이상 인원수만 \n",
        "\n",
        "import csv\n",
        "\n",
        "f = open('age.csv', encoding='cp949')\n",
        "data = csv.reader(f)\n",
        "\n",
        "for row in data :\n",
        "    if '신도림' in row[0] :\n",
        "        for i in row[3:] :  # 0 ~ 100 세 이상\n",
        "            print(i)"
      ],
      "execution_count": null,
      "outputs": []
    },
    {
      "cell_type": "code",
      "metadata": {
        "id": "2ehDe_FlWXzR"
      },
      "source": [
        "# 신도림의 0~100세 이상 인원수만\n",
        "# 리스트로 저장\n",
        "# 코드 만들어 봅시다\n",
        "\n",
        "import csv\n",
        "f = open('age.csv', encoding='cp949')\n",
        "data = csv.reader(f)\n",
        "\n",
        "result = []\n",
        "\n",
        "for row in data :\n",
        "    if '신도림' in row[0] :\n",
        "        for i in row[3:] :\n",
        "            result.append(int(i))\n",
        "\n",
        "print(result)\n"
      ],
      "execution_count": null,
      "outputs": []
    },
    {
      "cell_type": "code",
      "metadata": {
        "id": "zWWzD-YlZOWh"
      },
      "source": [
        "# 선 그래프\n",
        "\n",
        "import matplotlib.pyplot as plt\n",
        "\n",
        "plt.style.use('ggplot')\n",
        "plt.plot(result)\n",
        "\n",
        "plt.show()"
      ],
      "execution_count": null,
      "outputs": []
    },
    {
      "cell_type": "code",
      "metadata": {
        "colab": {
          "base_uri": "https://localhost:8080/"
        },
        "id": "rtyvkb0pdW4G",
        "outputId": "216231b0-cfd8-4382-b269-b4b0ae3b510c"
      },
      "source": [
        "# 한글 폰트 사용하기 \n",
        "\n",
        "!apt -qq -y install fonts-nanum\n",
        "\n",
        "# 폰트 세팅\n",
        "import matplotlib.pyplot as plt\n",
        "import matplotlib.font_manager as fm\n",
        "\n",
        "fontpath = '/usr/share/fonts/truetype/nanum/NanumGothic.ttf'\n",
        "font = fm.FontProperties(fname=fontpath, size=10)\n",
        "fm._rebuild()\n",
        "\n",
        "# 위 코드 실행 후 [메뉴] - [런타임] - [런타임 다시 시작] - [예]\n"
      ],
      "execution_count": null,
      "outputs": [
        {
          "output_type": "stream",
          "text": [
            "fonts-nanum is already the newest version (20170925-1).\n",
            "0 upgraded, 0 newly installed, 0 to remove and 15 not upgraded.\n"
          ],
          "name": "stdout"
        }
      ]
    },
    {
      "cell_type": "code",
      "metadata": {
        "id": "PY1hTUikaQxq"
      },
      "source": [
        "# 원하는 지역을 검색하여 인구 분포도 보기 # 1\n",
        "\n",
        "import csv\n",
        "f = open('age.csv', encoding='cp949')\n",
        "data = csv.reader(f)\n",
        "\n",
        "result = []\n",
        "\n",
        "name = input('지역의 이름(읍면동 단위)을 입력해주세요 : ')\n",
        "name.strip()\n",
        "\n",
        "for row in data :\n",
        "    if name in row[0] :\n",
        "        for i in row[3:] :\n",
        "            result.append(int(i))\n",
        "   \n",
        "import matplotlib.pyplot as plt\n",
        "\n",
        "plt.style.use('ggplot')\n",
        "plt.rc('font', family = 'NanumGothic')\n",
        "\n",
        "plt.title(name +' - 인구 구조')\n",
        "plt.plot(result)\n",
        "plt.show()"
      ],
      "execution_count": null,
      "outputs": []
    },
    {
      "cell_type": "code",
      "metadata": {
        "id": "rex-SOGsgSHy"
      },
      "source": [
        "# 원하는 지역을 검색하여 인구 분포도 보기 # 2\n",
        "# 지역이름 전체 나오게 하려면 ... \n",
        "\n",
        "\n",
        "import csv\n",
        "f = open('age.csv', encoding='cp949')\n",
        "data = csv.reader(f)\n",
        "\n",
        "result = []\n",
        "name = input('지역의 이름(읍면동 단위)을 입력해주세요 : ')\n",
        "\n",
        "for row in data :\n",
        "    if name in row[0] :\n",
        "        full_name = row[0]  # 전체 지역 명\n",
        "        for i in row[3:] :\n",
        "            result.append(int(i))\n",
        "\n",
        "## 지역이름 풀네임 가져오기\n",
        "## 행정구역코드는 빼고\n",
        "\n",
        "\n",
        "\n",
        "\n",
        "import matplotlib.pyplot as plt\n",
        "\n",
        "plt.style.use('ggplot')\n",
        "plt.rc('font', family = 'NanumGothic')\n",
        "\n",
        "plt.title(name +' - 인구 구조')\n",
        "\n",
        "plt.plot(result)\n",
        "plt.show()"
      ],
      "execution_count": null,
      "outputs": []
    },
    {
      "cell_type": "code",
      "metadata": {
        "id": "wFWCZGejzNsL"
      },
      "source": [
        "# 막대 그래프"
      ],
      "execution_count": null,
      "outputs": []
    },
    {
      "cell_type": "code",
      "metadata": {
        "colab": {
          "base_uri": "https://localhost:8080/",
          "height": 264
        },
        "id": "jMAU5qi3g7ma",
        "outputId": "18620c57-3f00-4c61-d22f-d77108c47179"
      },
      "source": [
        "# 막대 그래프 기본\n",
        "# 막대의 길이는 데이터의 크기\n",
        "# plt.bar( [x축], [y축] ) => x축 y축 갯수가 일치해야 한다\n",
        "\n",
        "import matplotlib.pyplot as plt\n",
        "\n",
        "plt.bar([0,1,2,4,6,10], [1,2,3,5,6,7] )  \n",
        "plt.show()\n"
      ],
      "execution_count": null,
      "outputs": [
        {
          "output_type": "display_data",
          "data": {
            "image/png": "[encoded data removed]",
            "text/plain": [
              "<Figure size 432x288 with 1 Axes>"
            ]
          },
          "metadata": {
            "tags": []
          }
        }
      ]
    },
    {
      "cell_type": "code",
      "metadata": {
        "colab": {
          "base_uri": "https://localhost:8080/",
          "height": 264
        },
        "id": "EWAU91u-hZph",
        "outputId": "b6f5dd83-41e9-4872-9c41-42dfea975752"
      },
      "source": [
        "# 막대 색, 투명도\n",
        "\n",
        "import matplotlib.pyplot as plt\n",
        "\n",
        "plt.bar(range(6), [1,2,3,5,6,7], color='green',alpha=0.5)\n",
        "\n",
        "plt.show()"
      ],
      "execution_count": null,
      "outputs": [
        {
          "output_type": "display_data",
          "data": {
            "image/png": "[encoded data removed]",
            "text/plain": [
              "<Figure size 432x288 with 1 Axes>"
            ]
          },
          "metadata": {
            "tags": []
          }
        }
      ]
    },
    {
      "cell_type": "code",
      "metadata": {
        "colab": {
          "base_uri": "https://localhost:8080/",
          "height": 264
        },
        "id": "Dv2v1R1OmAy1",
        "outputId": "74409d1c-f306-4052-a625-c59721e14869"
      },
      "source": [
        "# 신도림 지역의 0~100세 이상의 인구분포도\n",
        "\n",
        "import csv\n",
        "f = open('age.csv', encoding='cp949')\n",
        "data = csv.reader(f)\n",
        "\n",
        "result = []\n",
        "\n",
        "for row in data :\n",
        "    if '신도림' in row[0] :\n",
        "        for i in row[3:] :\n",
        "            result.append(int(i))\n",
        "\n",
        "\n",
        "import matplotlib.pyplot as plt\n",
        "\n",
        "plt.bar(range(101), result )   # x축 연령, y축 인원수 \n",
        "plt.show()"
      ],
      "execution_count": null,
      "outputs": [
        {
          "output_type": "display_data",
          "data": {
            "image/png": "[encoded data removed]",
            "text/plain": [
              "<Figure size 432x288 with 1 Axes>"
            ]
          },
          "metadata": {
            "tags": []
          }
        }
      ]
    },
    {
      "cell_type": "code",
      "metadata": {
        "colab": {
          "base_uri": "https://localhost:8080/",
          "height": 264
        },
        "id": "vtiRUWR9oL7O",
        "outputId": "db525b15-8827-4879-c1c4-b4fe1aaecd6a"
      },
      "source": [
        "# 신도림 지역의 0~100세 이상의 인구분포도\n",
        "# 세로 막대 그래프\n",
        "\n",
        "import csv\n",
        "f = open('age.csv', encoding='cp949')\n",
        "data = csv.reader(f)\n",
        "\n",
        "result = []\n",
        "\n",
        "for row in data :\n",
        "    if '신도림' in row[0] :\n",
        "        for i in row[3:] :\n",
        "            result.append(int(i))\n",
        "\n",
        "import matplotlib.pyplot as plt\n",
        "\n",
        "plt.barh(range(101), result )   # plt.bar => plt.barh 로 바꾸면 된다\n",
        "plt.show()"
      ],
      "execution_count": null,
      "outputs": [
        {
          "output_type": "display_data",
          "data": {
            "image/png": "[encoded data removed]",
            "text/plain": [
              "<Figure size 432x288 with 1 Axes>"
            ]
          },
          "metadata": {
            "tags": []
          }
        }
      ]
    },
    {
      "cell_type": "code",
      "metadata": {
        "id": "Y6JxVOauqJ9q"
      },
      "source": [
        "# gender.csv  자료 확인할 것\n",
        "# 지역 / 남자총인구../남자 0세..100세이상 / 여자총인구../여자 0세~100세이상"
      ],
      "execution_count": null,
      "outputs": []
    },
    {
      "cell_type": "code",
      "metadata": {
        "id": "NF3DCD8opEdT"
      },
      "source": [
        "# 성별 데이터\n",
        " \n",
        "# 파일업로드 : gender.csv\n",
        "\n",
        "from google.colab import files\n",
        "uploaded =  files.upload()\n",
        "\n"
      ],
      "execution_count": null,
      "outputs": []
    },
    {
      "cell_type": "code",
      "metadata": {
        "colab": {
          "base_uri": "https://localhost:8080/"
        },
        "id": "wx9lv_Z0qIDG",
        "outputId": "3dfce10d-c663-4dbd-e08f-489d766c2a8a"
      },
      "source": [
        "# 신도림 지역의 남/여 연령별 인원수만 리스트에 저장\n",
        "\n",
        "import csv\n",
        "f = open('gender.csv', encoding='cp949')\n",
        "data = csv.reader(f)\n",
        "\n",
        "m = []  # 남자 0 ~ 인원수\n",
        "f = []  # 여자 0 ~ 인원수\n",
        "\n",
        "for row in data :\n",
        "    if '신도림' in row[0] : \n",
        "        for i in range(0,101) :     # 0 ~ 100세 이상\n",
        "            m.append(int(row[i+3])) \n",
        "            f.append(int(row[-(i+1)]))\n",
        "            \n",
        "f.reverse()  ## ??\n",
        "\n",
        "print(m)\n",
        "print(f)"
      ],
      "execution_count": null,
      "outputs": [
        {
          "output_type": "stream",
          "text": [
            "[165, 185, 221, 209, 192, 209, 189, 210, 217, 197, 210, 198, 198, 189, 171, 156, 183, 178, 205, 175, 203, 218, 210, 257, 222, 249, 203, 239, 227, 212, 250, 237, 270, 309, 308, 387, 366, 367, 349, 390, 324, 330, 342, 306, 363, 348, 331, 321, 302, 275, 264, 253, 258, 266, 280, 224, 280, 257, 277, 246, 270, 217, 194, 248, 180, 193, 177, 130, 148, 159, 154, 141, 112, 77, 86, 70, 86, 69, 57, 47, 51, 44, 26, 32, 20, 9, 19, 13, 5, 6, 3, 3, 3, 2, 1, 3, 1, 1, 1, 0, 1]\n",
            "[152, 164, 195, 195, 200, 206, 227, 222, 195, 198, 201, 190, 161, 174, 161, 178, 166, 163, 203, 193, 192, 220, 218, 256, 235, 216, 239, 255, 229, 268, 305, 296, 306, 318, 336, 369, 393, 441, 382, 396, 355, 357, 355, 321, 366, 351, 303, 327, 329, 299, 299, 246, 247, 294, 240, 222, 258, 307, 280, 268, 263, 238, 224, 269, 201, 185, 225, 140, 143, 120, 118, 143, 86, 85, 74, 84, 87, 69, 73, 67, 63, 53, 60, 46, 44, 31, 29, 29, 21, 25, 18, 12, 11, 10, 3, 7, 3, 2, 1, 3, 6]\n"
          ],
          "name": "stdout"
        }
      ]
    },
    {
      "cell_type": "code",
      "metadata": {
        "id": "7EhBmeGGqIIb"
      },
      "source": [
        "# 신도림 지역의 남/여 연령별 인원수만 리스트에 저장\n",
        "\n",
        "import csv\n",
        "f = open('gender.csv', encoding='cp949')\n",
        "data = csv.reader(f)\n",
        "\n",
        "m = []  # 남자 0 ~ 인원수\n",
        "f = []  # 여자 0 ~ 인원수\n",
        "\n",
        "for row in data :\n",
        "    if '신도림' in row[0] : \n",
        "        for i in range(0,101) :     # 0 ~ 100세 이상\n",
        "            m.append(int(row[i+3])) \n",
        "            f.append(int(row[-(i+1)]))\n",
        "f.reverse()   \n",
        "\n",
        "\n",
        "import matplotlib.pyplot as plt\n",
        "\n",
        "plt.barh(range(101), m)\n",
        "plt.barh(range(101), f)\n",
        "\n",
        "plt.show()"
      ],
      "execution_count": null,
      "outputs": []
    },
    {
      "cell_type": "code",
      "metadata": {
        "colab": {
          "base_uri": "https://localhost:8080/"
        },
        "id": "EqGoDuvDx95H",
        "outputId": "c17a033e-ff98-4f51-f917-8fd984db81e6"
      },
      "source": [
        "# 한글 폰트 사용하기 \n",
        "\n",
        "!apt -qq -y install fonts-nanum\n",
        "\n",
        "# 폰트 세팅\n",
        "import matplotlib.pyplot as plt\n",
        "import matplotlib.font_manager as fm\n",
        "\n",
        "fontpath = '/usr/share/fonts/truetype/nanum/NanumGothic.ttf'\n",
        "font = fm.FontProperties(fname=fontpath, size=10)\n",
        "fm._rebuild()\n",
        "\n",
        "# 위 코드 실행 후 [메뉴] - [런타임] - [런타임 다시 시작] - [예]"
      ],
      "execution_count": null,
      "outputs": [
        {
          "output_type": "stream",
          "text": [
            "fonts-nanum is already the newest version (20170925-1).\n",
            "0 upgraded, 0 newly installed, 0 to remove and 15 not upgraded.\n"
          ],
          "name": "stdout"
        }
      ]
    },
    {
      "cell_type": "code",
      "metadata": {
        "id": "_UB7CfliqIS5"
      },
      "source": [
        "# 그래프가 겹쳐서 알아보기 힘들다..;;\n",
        "# 남성 데이터는 왼쪽 , 여성 데이터 오른쪽\n",
        "\n",
        "import csv\n",
        "f = open('gender.csv', encoding='cp949')\n",
        "data = csv.reader(f)\n",
        "m = []\n",
        "f = []\n",
        "for row in data :\n",
        "    if'신도림'in row[0] :\n",
        "        for i in row[3:104] : \n",
        "            m.append(-int(i))     # 마이너스 부호를 넣어서 음수로 변경\n",
        "        for i in row[106:] :           \n",
        "            f.append(int(i))\n",
        "\n",
        "\n",
        "import matplotlib.pyplot as plt\n",
        "\n",
        "plt.barh(range(101), m)\n",
        "plt.barh(range(101), f)\n",
        "\n",
        "plt.show()           "
      ],
      "execution_count": null,
      "outputs": []
    },
    {
      "cell_type": "code",
      "metadata": {
        "id": "nfguCJT2vvcl"
      },
      "source": [
        "# 실습 \n",
        "\n",
        "# 제목과 범례를 추가해 주세요\n",
        "# 옵션들을 수정하여 완성하세요\n",
        "# 스타일도 적용해 보세요\n",
        "\n"
      ],
      "execution_count": null,
      "outputs": []
    },
    {
      "cell_type": "code",
      "metadata": {
        "id": "hwuAFoQLvvhR"
      },
      "source": [
        "## 최종\n",
        "## 위의 스타일 적용된 코드에 지역 검색 기능 추가\n",
        "\n",
        "\n"
      ],
      "execution_count": null,
      "outputs": []
    },
    {
      "cell_type": "code",
      "metadata": {
        "id": "e41a0U8Mvvk5"
      },
      "source": [],
      "execution_count": null,
      "outputs": []
    }
  ]
}