{
  "nbformat": 4,
  "nbformat_minor": 0,
  "metadata": {
    "colab": {
      "provenance": [],
      "include_colab_link": true
    },
    "kernelspec": {
      "display_name": "Python 3",
      "language": "python",
      "name": "python3"
    },
    "language_info": {
      "codemirror_mode": {
        "name": "ipython",
        "version": 3
      },
      "file_extension": ".py",
      "mimetype": "text/x-python",
      "name": "python",
      "nbconvert_exporter": "python",
      "pygments_lexer": "ipython3",
      "version": "3.7.1"
    }
  },
  "cells": [
    {
      "cell_type": "markdown",
      "metadata": {
        "id": "view-in-github",
        "colab_type": "text"
      },
      "source": [
        "<a href=\"https://colab.research.google.com/github/Serendipity-Song/Pandas_Numpy_2020/blob/main/numpy_%ED%94%84%EB%A1%9C%EC%A0%9D%ED%8A%B8.ipynb\" target=\"_parent\"><img src=\"https://colab.research.google.com/assets/colab-badge.svg\" alt=\"Open In Colab\"/></a>"
      ]
    },
    {
      "cell_type": "code",
      "metadata": {
        "id": "AtJHTTeA_-1T"
      },
      "source": [
        "# 파일업로드 \n",
        "# 인구 통계 데이터 : age.csv\n",
        "\n",
        "from google.colab import files\n",
        "uploaded =  files.upload()\n"
      ],
      "execution_count": null,
      "outputs": []
    },
    {
      "cell_type": "code",
      "metadata": {
        "id": "JrnOWG6jBhwV",
        "colab": {
          "base_uri": "https://localhost:8080/"
        },
        "outputId": "196f2a30-bffb-4304-ccef-f4e60ff8f6b0"
      },
      "source": [
        "# 한글 폰트 사용하기 \n",
        "\n",
        "!apt -qq -y install fonts-nanum\n",
        "\n",
        "# 폰트 세팅\n",
        "import matplotlib.pyplot as plt\n",
        "import matplotlib.font_manager as fm\n",
        "\n",
        "fontpath = '/usr/share/fonts/truetype/nanum/NanumGothic.ttf'\n",
        "font = fm.FontProperties(fname=fontpath, size=10)\n",
        "fm._rebuild()\n",
        "\n",
        "# 위 코드 실행 후 [메뉴] - [런타임] - [런타임 다시 시작] - [예]\n"
      ],
      "execution_count": null,
      "outputs": [
        {
          "output_type": "stream",
          "text": [
            "fonts-nanum is already the newest version (20170925-1).\n",
            "0 upgraded, 0 newly installed, 0 to remove and 15 not upgraded.\n"
          ],
          "name": "stdout"
        }
      ]
    },
    {
      "cell_type": "code",
      "metadata": {
        "id": "QrH98yUS_psN",
        "colab": {
          "base_uri": "https://localhost:8080/",
          "height": 241
        },
        "outputId": "a4f63bb3-7a26-41e7-8a24-b8f22d25e5aa"
      },
      "source": [
        "import csv\n",
        "f =open('age.csv', encoding='cp949')\n",
        "data = csv.reader(f)\n",
        "next(data)  \n",
        "\n",
        "for row in data :\n",
        "    print(row)\n",
        "    break       ## 한줄만 출력하여 확인\n"
      ],
      "execution_count": null,
      "outputs": [
        {
          "output_type": "error",
          "ename": "FileNotFoundError",
          "evalue": "ignored",
          "traceback": [
            "\u001b[0;31m---------------------------------------------------------------------------\u001b[0m",
            "\u001b[0;31mFileNotFoundError\u001b[0m                         Traceback (most recent call last)",
            "\u001b[0;32m<ipython-input-1-4cf4e7dd0dc1>\u001b[0m in \u001b[0;36m<module>\u001b[0;34m()\u001b[0m\n\u001b[1;32m      1\u001b[0m \u001b[0;32mimport\u001b[0m \u001b[0mcsv\u001b[0m\u001b[0;34m\u001b[0m\u001b[0;34m\u001b[0m\u001b[0m\n\u001b[0;32m----> 2\u001b[0;31m \u001b[0mf\u001b[0m \u001b[0;34m=\u001b[0m\u001b[0mopen\u001b[0m\u001b[0;34m(\u001b[0m\u001b[0;34m'age.csv'\u001b[0m\u001b[0;34m,\u001b[0m \u001b[0mencoding\u001b[0m\u001b[0;34m=\u001b[0m\u001b[0;34m'cp949'\u001b[0m\u001b[0;34m)\u001b[0m\u001b[0;34m\u001b[0m\u001b[0;34m\u001b[0m\u001b[0m\n\u001b[0m\u001b[1;32m      3\u001b[0m \u001b[0mdata\u001b[0m \u001b[0;34m=\u001b[0m \u001b[0mcsv\u001b[0m\u001b[0;34m.\u001b[0m\u001b[0mreader\u001b[0m\u001b[0;34m(\u001b[0m\u001b[0mf\u001b[0m\u001b[0;34m)\u001b[0m\u001b[0;34m\u001b[0m\u001b[0;34m\u001b[0m\u001b[0m\n\u001b[1;32m      4\u001b[0m \u001b[0mnext\u001b[0m\u001b[0;34m(\u001b[0m\u001b[0mdata\u001b[0m\u001b[0;34m)\u001b[0m\u001b[0;34m\u001b[0m\u001b[0;34m\u001b[0m\u001b[0m\n\u001b[1;32m      5\u001b[0m \u001b[0;34m\u001b[0m\u001b[0m\n",
            "\u001b[0;31mFileNotFoundError\u001b[0m: [Errno 2] No such file or directory: 'age.csv'"
          ]
        }
      ]
    },
    {
      "cell_type": "code",
      "metadata": {
        "id": "efe5hGbs_psV",
        "colab": {
          "base_uri": "https://localhost:8080/",
          "height": 241
        },
        "outputId": "fa6a8013-2077-4697-d252-43fa8b295e6c"
      },
      "source": [
        "import csv\n",
        "f =open('age.csv', encoding='cp949')\n",
        "data = csv.reader(f)\n",
        "next(data)\n",
        "\n",
        "home = []       #입력 받은 지역의 데이터를 저장할 리스트 생성\n",
        "name = input('인구 구조가 알고 싶은 지역의 이름(읍면동 단위)을 입력해주세요 : ')\n",
        "\n",
        "for row in data :\n",
        "    if name in row[0] :            # 입력 받은 지역의 이름이 포함된 행 찾기\n",
        "        for i in row[3:] :         # 3번 인덱스 값부터 슬라이싱, 0세~100세이상\n",
        "            home.append( int(i) )  # int함수를 안쓰면 문자형으로 저장됨\n",
        "print(home)  \n"
      ],
      "execution_count": null,
      "outputs": [
        {
          "output_type": "error",
          "ename": "FileNotFoundError",
          "evalue": "ignored",
          "traceback": [
            "\u001b[0;31m---------------------------------------------------------------------------\u001b[0m",
            "\u001b[0;31mFileNotFoundError\u001b[0m                         Traceback (most recent call last)",
            "\u001b[0;32m<ipython-input-3-0ccc651bdc64>\u001b[0m in \u001b[0;36m<module>\u001b[0;34m()\u001b[0m\n\u001b[1;32m      1\u001b[0m \u001b[0;32mimport\u001b[0m \u001b[0mcsv\u001b[0m\u001b[0;34m\u001b[0m\u001b[0;34m\u001b[0m\u001b[0m\n\u001b[0;32m----> 2\u001b[0;31m \u001b[0mf\u001b[0m \u001b[0;34m=\u001b[0m\u001b[0mopen\u001b[0m\u001b[0;34m(\u001b[0m\u001b[0;34m'age.csv'\u001b[0m\u001b[0;34m,\u001b[0m \u001b[0mencoding\u001b[0m\u001b[0;34m=\u001b[0m\u001b[0;34m'cp949'\u001b[0m\u001b[0;34m)\u001b[0m\u001b[0;34m\u001b[0m\u001b[0;34m\u001b[0m\u001b[0m\n\u001b[0m\u001b[1;32m      3\u001b[0m \u001b[0mdata\u001b[0m \u001b[0;34m=\u001b[0m \u001b[0mcsv\u001b[0m\u001b[0;34m.\u001b[0m\u001b[0mreader\u001b[0m\u001b[0;34m(\u001b[0m\u001b[0mf\u001b[0m\u001b[0;34m)\u001b[0m\u001b[0;34m\u001b[0m\u001b[0;34m\u001b[0m\u001b[0m\n\u001b[1;32m      4\u001b[0m \u001b[0mnext\u001b[0m\u001b[0;34m(\u001b[0m\u001b[0mdata\u001b[0m\u001b[0;34m)\u001b[0m\u001b[0;34m\u001b[0m\u001b[0;34m\u001b[0m\u001b[0m\n\u001b[1;32m      5\u001b[0m \u001b[0;34m\u001b[0m\u001b[0m\n",
            "\u001b[0;31mFileNotFoundError\u001b[0m: [Errno 2] No such file or directory: 'age.csv'"
          ]
        }
      ]
    },
    {
      "cell_type": "code",
      "metadata": {
        "id": "gNQ8s61W_psW"
      },
      "source": [
        "# 위 코드의 11~12행을 numpy로 수정 \n",
        "# 본 코드의 12행 확인\n",
        "\n",
        "import numpy as np\n",
        "import csv\n",
        "f =open('age.csv', encoding='cp949')\n",
        "data = csv.reader(f)\n",
        "next(data)\n",
        "name = input('인구 구조가 알고 싶은 지역의 이름(읍면동 단위)을 입력해주세요 : ')\n",
        "for row in data :\n",
        "    if name in row[0] :\n",
        "        home = np.array(row[3:], dtype = int)  ## numpy 이용 배열에 저장\n",
        "\n",
        "import matplotlib.pyplot as plt\n",
        "plt.style.use('ggplot')\n",
        "plt.figure(figsize = (10,5))    \n",
        "plt.rc('font', family ='NanumGothic')\n",
        "plt.title(name +' 지역의 인구 구조')\n",
        "\n",
        "plt.plot(home) \n",
        "plt.show()"
      ],
      "execution_count": null,
      "outputs": []
    },
    {
      "cell_type": "code",
      "metadata": {
        "id": "C-q81gO1FiM6"
      },
      "source": [
        "# 프로젝트 :  내가 검색한 지역과 인구 구조가 비슷한 지역찾기\n",
        "\n",
        "# 비슷하다 어떻게 구현할지 ??? \n",
        "# => 지역1과 지역2의 연령마다 인구수의 차이를 모두 더한 값의 최소값인 지역 \n",
        "\n",
        "# => 문제점 발견 !!\n",
        "#    전체 인구수가 다르다 \n",
        "\n",
        "# => 문제점 개선 \n",
        "#    인구 구조이므로 인구 비율로 비교 \n",
        "\n",
        "# 알고리즘\n",
        "#  1. 모든 지역에서 궁금한 지역의 인구 구조 비율 저장 \n",
        "#  2. 모든 지역을 한곳씩 읽어서 => 0세 ~ 100세 까지 인구 비율의 차를 구한다\n",
        "#  3. 인구 비율의 차를 모두 더한다\n",
        "#  4, 차가 가장 적은 지역을 찾는다\n",
        "#  5, 두 지역을 시각화"
      ],
      "execution_count": null,
      "outputs": []
    },
    {
      "cell_type": "code",
      "metadata": {
        "id": "6BpPy83P_psW"
      },
      "source": [
        "# 알고리즘 1\n",
        "\n",
        "import numpy as np\n",
        "import csv\n",
        "f =open('age.csv', encoding='cp949')\n",
        "data = csv.reader(f)\n",
        "next(data)\n",
        "data = list(data)      ## 리스트에 담은 이유??\n",
        "\n",
        "name = input('인구 구조가 알고 싶은 지역의 이름(읍면동 단위)을 입력해주세요 : ')\n",
        "for row in data :\n",
        "    if name in row[0] :\n",
        "        home = np.array(row[3:], dtype =int) / int(row[2])   # row[2] => 전체인원수        \n",
        "print(home)  # home 인원수가 아닌 비율이 저장됨\n",
        "\n",
        "import matplotlib.pyplot as plt\n",
        "plt.style.use('ggplot')\n",
        "plt.figure(figsize = (10,5))    \n",
        "plt.rc('font', family ='NanumGothic')\n",
        "plt.title(name +' 지역의 인구 구조')\n",
        "plt.plot(home) \n",
        "plt.show()"
      ],
      "execution_count": null,
      "outputs": []
    },
    {
      "cell_type": "code",
      "metadata": {
        "id": "uk8J_r1K_psX"
      },
      "source": [
        "# csv.reader 의 문제점\n",
        "\n",
        "import numpy as np\n",
        "import csv\n",
        "f =open('age.csv',encoding='cp949')\n",
        "data = csv.reader(f)  \n",
        "next(data)\n",
        "\n",
        "name = input('인구 구조가 알고 싶은 지역의 이름(읍면동 단위)을 입력해주세요 : ')\n",
        "\n",
        "for row in data :  \n",
        "    if name in row[0] :\n",
        "        home = np.array(row[3:], dtype =int) / int(row[2])  \n",
        "        print(row)\n",
        "        \n",
        "for row in data :  \n",
        "    print(row)   # 실행 안됨!!"
      ],
      "execution_count": null,
      "outputs": []
    },
    {
      "cell_type": "code",
      "metadata": {
        "id": "VkSpAjlH_psX"
      },
      "source": [
        "# 앞 코드 문제를 해결하기 위해 \n",
        "# 자료를 리스트에 저장 \n",
        "\n",
        "import numpy as np\n",
        "import csv\n",
        "f =open('age.csv', encoding='cp949')\n",
        "data = csv.reader(f)  \n",
        "next(data)\n",
        "data = list(data)  ## 리스트에 저장\n",
        "\n",
        "name = input('인구 구조가 알고 싶은 지역의 이름(읍면동 단위)을 입력해주세요 : ')\n",
        "for row in data :  \n",
        "    if name in row[0] :\n",
        "        home = np.array(row[3:], dtype =int) / int(row[2])  \n",
        "        print(row)\n",
        "for row in data :  \n",
        "    print(row) \n",
        "    break "
      ],
      "execution_count": null,
      "outputs": []
    },
    {
      "cell_type": "code",
      "metadata": {
        "id": "c_cScPAo_psd"
      },
      "source": [
        "# 알고리즘 2\n",
        "# home과 away의 인구구조 비율 차이 구하기\n",
        "\n",
        "import numpy as np\n",
        "import csv\n",
        "f =open('age.csv', encoding='cp949')\n",
        "data = csv.reader(f) \n",
        "next(data)\n",
        "data = list(data)  \n",
        "\n",
        "name = input('인구 구조가 알고 싶은 지역의 이름(읍면동 단위)을 입력해주세요 : ')\n",
        "\n",
        "for row in data : \n",
        "    if name in row[0] :\n",
        "        home = np.array(row[3:], dtype =int) / int(row[2] )  \n",
        "        ## 궁금한 지역의 인구구조 비율 저장\n",
        "\n",
        "for row in data : \n",
        "    away = np.array(row[3:], dtype = int) / int(row[2])\n",
        "    print(home - away)  "
      ],
      "execution_count": null,
      "outputs": []
    },
    {
      "cell_type": "code",
      "metadata": {
        "id": "bPDGY_qF_psi"
      },
      "source": [
        "# 알고리즘 3\n",
        "# 각각의 차이를 모두 더한다\n",
        "\n",
        "import numpy as np\n",
        "import csv\n",
        "f =open('age.csv', encoding='cp949')\n",
        "data = csv.reader(f) \n",
        "next(data)\n",
        "data = list(data)   \n",
        "name = input('인구 구조가 알고 싶은 지역의 이름(읍면동 단위)을 입력해주세요 : ')\n",
        "for row in data : \n",
        "    if name in row[0] :\n",
        "        home = np.array(row[3:], dtype =int) / int(row[2]) \n",
        "for row in data : \n",
        "    away = np.array(row[3:], dtype = int) / int(row[2])\n",
        "    print(np.sum(home - away))  ## 차의 합\n"
      ],
      "execution_count": null,
      "outputs": []
    },
    {
      "cell_type": "code",
      "metadata": {
        "id": "7RX7mOQN_psj",
        "scrolled": true
      },
      "source": [
        "# 알고리즘 4\n",
        "# 차가 가장 적은 지역을 찾는다\n",
        "\n",
        "# 21행의 문제점 !!\n",
        "# => 차이가 -가 올 수도 있어서 => sum 에 영향을 줌\n",
        "# => 해결방법 ??\n",
        "\n",
        "import numpy as np\n",
        "import csv\n",
        "f = open('age.csv', encoding='cp949')\n",
        "data = csv.reader(f)\n",
        "next(data)\n",
        "data = list(data)\n",
        "name = input('인구 구조가 알고 싶은 지역의 이름(읍면동 단위)을 입력해주세요 : ')\n",
        "mn = 99999           # 최솟값을 저장할 변수 생성 및 초기화\n",
        "\n",
        "for row in data :\n",
        "    if name in row[0] :\n",
        "        home = np.array(row[3:], dtype = int) / int(row[2])  ## 궁금한 지역 인구비율\n",
        "    \n",
        "    for row in data :  \n",
        "        away = np.array(row[3:], dtype = int) / int(row[2])  ## 다른 지역의 인구비율\n",
        "        s = np.sum(home - away)  ## ?? \n",
        "        if s < mn : \n",
        "            mn = s  \n",
        "            result_name = row[0] ## 지역명\n",
        "            result = away        ## 인구 구조 비율\n",
        "            "
      ],
      "execution_count": null,
      "outputs": []
    },
    {
      "cell_type": "code",
      "metadata": {
        "id": "Y1GhKD3A_psj",
        "colab": {
          "base_uri": "https://localhost:8080/",
          "height": 241
        },
        "outputId": "d9072313-5cbf-471f-ace0-e4ab51b8d6cd"
      },
      "source": [
        "# 최종\n",
        "\n",
        "import numpy as np\n",
        "import csv\n",
        "#1. 데이터를 읽어온다.\n",
        "f =open('age.csv',encoding='cp949')\n",
        "data = csv.reader(f)\n",
        "next(data)\n",
        "data = list(data)\n",
        "\n",
        "#2. 궁금한 지역의 이름을 입력받는다.\n",
        "name = input('인구 구조가 알고 싶은 지역의 이름(읍면동 단위)을 입력해주세요 : ')\n",
        "mn = 99999\n",
        "\n",
        "#3. 궁금한 지역의 인구 구조를 저장한다.\n",
        "for row in data :\n",
        "    if name in row[0] :\n",
        "        home = np.array(row[3:], dtype =int) /int(row[2])\n",
        "\n",
        "#4. 궁금한 지역의 인구 구조와 가장 비슷한 인구 구조를 가진 지역을 찾는다.\n",
        "for row in data :\n",
        "    away = np.array(row[3:], dtype =int) /int(row[2])\n",
        "    s = np.sum((home - away) **2)  \n",
        "\n",
        "    if s < mn and name not in row[0] :\n",
        "        mn = s\n",
        "        result_name = row[0]\n",
        "        result = away\n",
        "\n",
        "#5. 궁금한 지역의 인구 구조와 가장 비슷한 곳의 인구 구조를 시각화한다.\n",
        "import matplotlib.pyplot as plt\n",
        "plt.style.use('ggplot')\n",
        "plt.figure(figsize = (10,5), dpi=300)            \n",
        "plt.rc('font', family ='NanumGothic')\n",
        "plt.title(name +' 지역과 가장 비슷한 인구 구조를 가진 지역')\n",
        "plt.plot(home,   label = name)\n",
        "plt.plot(result, label = result_name)\n",
        "plt.legend()\n",
        "plt.show()\n"
      ],
      "execution_count": null,
      "outputs": [
        {
          "output_type": "error",
          "ename": "FileNotFoundError",
          "evalue": "ignored",
          "traceback": [
            "\u001b[0;31m---------------------------------------------------------------------------\u001b[0m",
            "\u001b[0;31mFileNotFoundError\u001b[0m                         Traceback (most recent call last)",
            "\u001b[0;32m<ipython-input-5-dd1e00653856>\u001b[0m in \u001b[0;36m<module>\u001b[0;34m()\u001b[0m\n\u001b[1;32m      4\u001b[0m \u001b[0;32mimport\u001b[0m \u001b[0mcsv\u001b[0m\u001b[0;34m\u001b[0m\u001b[0;34m\u001b[0m\u001b[0m\n\u001b[1;32m      5\u001b[0m \u001b[0;31m#1. 데이터를 읽어온다.\u001b[0m\u001b[0;34m\u001b[0m\u001b[0;34m\u001b[0m\u001b[0;34m\u001b[0m\u001b[0m\n\u001b[0;32m----> 6\u001b[0;31m \u001b[0mf\u001b[0m \u001b[0;34m=\u001b[0m\u001b[0mopen\u001b[0m\u001b[0;34m(\u001b[0m\u001b[0;34m'age.csv'\u001b[0m\u001b[0;34m,\u001b[0m\u001b[0mencoding\u001b[0m\u001b[0;34m=\u001b[0m\u001b[0;34m'cp949'\u001b[0m\u001b[0;34m)\u001b[0m\u001b[0;34m\u001b[0m\u001b[0;34m\u001b[0m\u001b[0m\n\u001b[0m\u001b[1;32m      7\u001b[0m \u001b[0mdata\u001b[0m \u001b[0;34m=\u001b[0m \u001b[0mcsv\u001b[0m\u001b[0;34m.\u001b[0m\u001b[0mreader\u001b[0m\u001b[0;34m(\u001b[0m\u001b[0mf\u001b[0m\u001b[0;34m)\u001b[0m\u001b[0;34m\u001b[0m\u001b[0;34m\u001b[0m\u001b[0m\n\u001b[1;32m      8\u001b[0m \u001b[0mnext\u001b[0m\u001b[0;34m(\u001b[0m\u001b[0mdata\u001b[0m\u001b[0;34m)\u001b[0m\u001b[0;34m\u001b[0m\u001b[0;34m\u001b[0m\u001b[0m\n",
            "\u001b[0;31mFileNotFoundError\u001b[0m: [Errno 2] No such file or directory: 'age.csv'"
          ]
        }
      ]
    },
    {
      "cell_type": "code",
      "metadata": {
        "collapsed": true,
        "id": "lQm1h3yU_psk"
      },
      "source": [],
      "execution_count": null,
      "outputs": []
    }
  ]
}