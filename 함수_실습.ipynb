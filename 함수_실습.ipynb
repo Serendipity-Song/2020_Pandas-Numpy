{
  "nbformat": 4,
  "nbformat_minor": 0,
  "metadata": {
    "colab": {
      "provenance": [],
      "include_colab_link": true
    },
    "kernelspec": {
      "name": "python3",
      "display_name": "Python 3"
    }
  },
  "cells": [
    {
      "cell_type": "markdown",
      "metadata": {
        "id": "view-in-github",
        "colab_type": "text"
      },
      "source": [
        "<a href=\"https://colab.research.google.com/github/Serendipity-Song/Pandas_Numpy_2020/blob/main/%ED%95%A8%EC%88%98_%EC%8B%A4%EC%8A%B5.ipynb\" target=\"_parent\"><img src=\"https://colab.research.google.com/assets/colab-badge.svg\" alt=\"Open In Colab\"/></a>"
      ]
    },
    {
      "cell_type": "markdown",
      "metadata": {
        "id": "bg5ZXMV2sn1M"
      },
      "source": [
        "# 함수(Function)"
      ]
    },
    {
      "cell_type": "markdown",
      "metadata": {
        "id": "zXbENjlMCrkU"
      },
      "source": [
        "## 함수 기본"
      ]
    },
    {
      "cell_type": "code",
      "metadata": {
        "id": "zy1dn5Al3iQi",
        "colab": {
          "base_uri": "https://localhost:8080/"
        },
        "outputId": "c22f2be4-ccab-4add-a948-6ae22e4c8d73"
      },
      "source": [
        "def hello():\n",
        "  print(\"Hello Python\")\n",
        "\n",
        "hello()\n"
      ],
      "execution_count": null,
      "outputs": [
        {
          "output_type": "stream",
          "text": [
            "Hello Python\n"
          ],
          "name": "stdout"
        }
      ]
    },
    {
      "cell_type": "markdown",
      "metadata": {
        "id": "GWTyreZRzzmW"
      },
      "source": [
        "### 함수 선언\n",
        "\n"
      ]
    },
    {
      "cell_type": "markdown",
      "metadata": {
        "id": "qQc_0nwV1YyE"
      },
      "source": [
        "### 매개변수와 반환값이 없는 함수\n",
        "\n",
        "* 함수에 매개변수와 반환값이 없이 사용 가능\n",
        "* 함수를 호출하면 함수의 수행문이 실행"
      ]
    },
    {
      "cell_type": "code",
      "metadata": {
        "id": "VIauKM25w6Aw"
      },
      "source": [],
      "execution_count": null,
      "outputs": []
    },
    {
      "cell_type": "markdown",
      "metadata": {
        "id": "eeldN6Kq20h4"
      },
      "source": [
        "### 매개변수만 있는 함수\n",
        "\n",
        "* 문자열 매개변수를 사용한 함수"
      ]
    },
    {
      "cell_type": "markdown",
      "metadata": {
        "id": "LBrdpHdFFUmT"
      },
      "source": []
    },
    {
      "cell_type": "code",
      "metadata": {
        "id": "DhVqlr5f24Px"
      },
      "source": [],
      "execution_count": null,
      "outputs": []
    },
    {
      "cell_type": "markdown",
      "metadata": {
        "id": "mmzbeJNq3uMA"
      },
      "source": [
        "### 반환 값만 있는 함수\n",
        "\n",
        "* 문자열 반환 값을 사용한 함수"
      ]
    },
    {
      "cell_type": "code",
      "metadata": {
        "id": "hv7QPvAN33bB"
      },
      "source": [],
      "execution_count": null,
      "outputs": []
    },
    {
      "cell_type": "markdown",
      "metadata": {
        "id": "KY_pW4pZ4CbM"
      },
      "source": [
        "### 매개변수와 반환 값이 있는 함수\n",
        "\n",
        "* 정수형 매개변수와 반환 값을 사용한 함수"
      ]
    },
    {
      "cell_type": "code",
      "metadata": {
        "id": "c3aDaQLX4Hwf"
      },
      "source": [],
      "execution_count": null,
      "outputs": []
    },
    {
      "cell_type": "markdown",
      "metadata": {
        "id": "BY9mQXbf4TRK"
      },
      "source": [
        "### 매개변수가 여러개 있는 함수\n",
        "\n",
        "* 정수형 매개변수 여러개를 사용한 함수\n",
        "* 매개변수를 지정하여 호출 가능"
      ]
    },
    {
      "cell_type": "code",
      "metadata": {
        "id": "DBc8hUNE4YKr"
      },
      "source": [
        "def add(n1,n2):\n",
        "    return n1 + n2\n",
        "\n",
        "print(add(3,5))  \n"
      ],
      "execution_count": null,
      "outputs": []
    },
    {
      "cell_type": "markdown",
      "metadata": {
        "id": "meUZXmUR4knx"
      },
      "source": [
        "### 키워드 매개변수\n",
        "\n",
        "* 함수의 매개변수를 변수명을 지정하여 호출 가능"
      ]
    },
    {
      "cell_type": "code",
      "metadata": {
        "id": "k0FipvNp4pXl"
      },
      "source": [
        "def add(n1,n2):\n",
        "    return n1 + n2\n",
        "\n",
        "print(add( n2=5, n1=3 ))"
      ],
      "execution_count": null,
      "outputs": []
    },
    {
      "cell_type": "markdown",
      "metadata": {
        "id": "3f_8Jxyh5EKA"
      },
      "source": [
        "### 가변 매개변수\n",
        "\n",
        "* 매개변수가 몇 개인지 알 수 없을 때 사용\n",
        "* 매개변수 앞에 '*'을 표시"
      ]
    },
    {
      "cell_type": "code",
      "metadata": {
        "id": "uVpBRKq65JLe"
      },
      "source": [
        "def sum(*args) :\n",
        "    res = 0\n",
        "    for i in args :\n",
        "        res = res + i\n",
        "    return res\n",
        "\n",
        "print ( sum(10, 20) )\n",
        "print ( sum(10,20,30,40) )"
      ],
      "execution_count": null,
      "outputs": []
    },
    {
      "cell_type": "markdown",
      "metadata": {
        "id": "czo-wmdL5YRR"
      },
      "source": [
        "### 가변 키워드 매개변수\n",
        "\n",
        "* 매개변수의 이름을 따로 지정하지 않고 사용\n",
        "* 매개변수 앞에 '**'을 표시"
      ]
    },
    {
      "cell_type": "code",
      "metadata": {
        "id": "jcPIBpWF5d9N"
      },
      "source": [
        "def print_kv(**kv) :\n",
        "    print(kv)\n",
        "\n",
        "print_kv(n1=10, n2=20)\n",
        "print_kv(id='aaa', pw='k123')"
      ],
      "execution_count": null,
      "outputs": []
    },
    {
      "cell_type": "markdown",
      "metadata": {
        "id": "BcE5o1GR5ugB"
      },
      "source": [
        "### 초기값 매개변수\n",
        "\n",
        "* 매개변수에 초기값을 설정하여 사용\n",
        "* 함수에 매개변수를 사용하지 않을 때 초기값을 사용"
      ]
    },
    {
      "cell_type": "code",
      "metadata": {
        "id": "Wdsz0tcZ50s_"
      },
      "source": [
        "def power(a=3, b=5):\n",
        "    return pow(a,b)\n",
        "\n",
        "print(power())\n",
        "print(power(2))\n",
        "print(power(2, 3))\n",
        "print(power(b=2))"
      ],
      "execution_count": null,
      "outputs": []
    },
    {
      "cell_type": "markdown",
      "metadata": {
        "id": "zEmGFAyv6ARs"
      },
      "source": [
        "### 여러 반환 값이 있는 함수\n",
        "\n",
        "* 함수의 반환값은 하나\n",
        "* 여러 반환값을 사용할 경우 튜플 형태로 반환"
      ]
    },
    {
      "cell_type": "code",
      "metadata": {
        "id": "4uA_PmQR6FW5"
      },
      "source": [
        "def p_m (n1, n2):\n",
        "    return n1+n2, n1-n2\n",
        "\n",
        "res = p_m(10,5)\n",
        "print(res)\n",
        "\n",
        "res1, res2 = p_m(10,5)\n",
        "print(res1,res2)"
      ],
      "execution_count": null,
      "outputs": []
    },
    {
      "cell_type": "markdown",
      "metadata": {
        "id": "XM8NFJC96cX7"
      },
      "source": [
        "### [실습] 계산기 함수\n",
        "\n",
        "* 두 수에 대해서 덧셈, 뺄셈, 곱셈, 나눗셈을 수행하는 함수\n",
        "* 연산자와 숫자 두개 입력 받아 계산"
      ]
    },
    {
      "cell_type": "code",
      "metadata": {
        "id": "XDXeVHIJ6gpm"
      },
      "source": [],
      "execution_count": null,
      "outputs": []
    },
    {
      "cell_type": "markdown",
      "metadata": {
        "id": "GXfPMgdV696x"
      },
      "source": [
        "### [실습] 가변 매개변수의 평균값 계산\n",
        "\n",
        "* 가변 매개변수로 들어오는 모든 수의 평균값 계산"
      ]
    },
    {
      "cell_type": "code",
      "metadata": {
        "id": "xgVFwpIm7CPY"
      },
      "source": [
        "def calc(op, n1, n2):\n",
        "  res=0\n",
        "  if op=='+':\n",
        "    res=n1+n2\n",
        "  elif op=='-':\n",
        "    res=n1-n2\n",
        "  elif op=='*':\n",
        "    res=n1*n2\n",
        "  elif op=='/':\n",
        "    res=n1/n2\n",
        "  \n",
        "  return res"
      ],
      "execution_count": null,
      "outputs": []
    },
    {
      "cell_type": "markdown",
      "metadata": {
        "id": "G8OTXx4aw7mY"
      },
      "source": [
        "\n",
        "\n",
        "---\n",
        "\n"
      ]
    },
    {
      "cell_type": "markdown",
      "metadata": {
        "id": "4y7j6wwPw9zd"
      },
      "source": [
        "## 변수의 유효범위\n"
      ]
    },
    {
      "cell_type": "markdown",
      "metadata": {
        "id": "UjzGwc9D7b9d"
      },
      "source": [
        "### 유효 범위\n",
        "\n",
        "* 변수는 유효한 범위가 존재\n",
        "* 함수 안에서 선언된 변수는 함수 내부에서 유효함"
      ]
    },
    {
      "cell_type": "code",
      "metadata": {
        "id": "vvew4Dhq7gYv",
        "colab": {
          "base_uri": "https://localhost:8080/"
        },
        "outputId": "656e8df8-11ba-4ab2-9d04-3f3d74bd4af6"
      },
      "source": [
        "def var_scope(a):\n",
        "    a = a + 1\n",
        "\n",
        "a = 10\n",
        "print( var_scope(a) )\n",
        "\n",
        "print( a )"
      ],
      "execution_count": null,
      "outputs": [
        {
          "output_type": "stream",
          "text": [
            "None\n",
            "10\n"
          ],
          "name": "stdout"
        }
      ]
    },
    {
      "cell_type": "markdown",
      "metadata": {
        "id": "7O3U3dYT7nXD"
      },
      "source": [
        "### 변수의 종류\n",
        "\n",
        "* 지역 변수: 한정된 지역에서만 사용되는 변수\n",
        "* 전역 변수: 프로그램 전체에서 사용되는 변수"
      ]
    },
    {
      "cell_type": "code",
      "metadata": {
        "id": "dhTOG0Uj7tOL"
      },
      "source": [
        "a=10\n",
        "\n",
        "def f1():\n",
        "    a=20          \n",
        "    print(a)\n",
        "\n",
        "def f2():\n",
        "    print(a)\n",
        "\n",
        "f1() \n",
        "f2()\n",
        "print(a)"
      ],
      "execution_count": null,
      "outputs": []
    },
    {
      "cell_type": "markdown",
      "metadata": {
        "id": "3-OF8own71vk"
      },
      "source": [
        "### 전역 변수 사용 global\n",
        "\n",
        "* 함수 내부에서 전역 변수를 사용하기 위한 `global` 키워드"
      ]
    },
    {
      "cell_type": "code",
      "metadata": {
        "id": "J_P_WGSr75jp"
      },
      "source": [
        "a=10\n",
        "\n",
        "def f1():\n",
        "    global a\n",
        "    a=20          \n",
        "    print(a)\n",
        "\n",
        "def f2():\n",
        "    print(a)\n",
        "\n",
        "f1() \n",
        "f2()\n",
        "print(a)"
      ],
      "execution_count": null,
      "outputs": []
    },
    {
      "cell_type": "markdown",
      "metadata": {
        "id": "NxjgnIKoxGkH"
      },
      "source": [
        "\n",
        "\n",
        "---\n",
        "\n"
      ]
    },
    {
      "cell_type": "markdown",
      "metadata": {
        "id": "8x-oWtbBxCpE"
      },
      "source": [
        "## 함수 심화"
      ]
    },
    {
      "cell_type": "markdown",
      "metadata": {
        "id": "GbFr5qM78B41"
      },
      "source": [
        "### 내부 함수(Nested Function)\n",
        "\n",
        "* 함수 안에 함수가 존재\n",
        "* 내부 함수는 외부에서 호출 불가"
      ]
    },
    {
      "cell_type": "code",
      "metadata": {
        "id": "6aBHDw7x8Gr5"
      },
      "source": [
        "def f1(n1) :\n",
        "    def f2(num1):\n",
        "        return num1*num1\n",
        "    return f2(n1)\n",
        "\n",
        "print( f1(10))"
      ],
      "execution_count": null,
      "outputs": []
    },
    {
      "cell_type": "markdown",
      "metadata": {
        "id": "RMlNesEi87cD"
      },
      "source": [
        "### 재귀 함수(Recursive Function)\n",
        "\n",
        "* 함수가 자기 자신을 다시 부르는 함수\n",
        "* `count()` 함수 내부에서 `count()` 함수를 호출\n",
        "* 재귀적으로 카운트 수를 출력\n",
        "\n",
        "*   count(3) => 3 2 1\n"
      ]
    },
    {
      "cell_type": "code",
      "metadata": {
        "id": "ATwXBqDH9Fuk"
      },
      "source": [
        "def count(n):\n",
        "    if n >= 1 :\n",
        "        print(n, end=\" \")\n",
        "        count(n - 1)\n",
        "    else :\n",
        "        return\n",
        "\n",
        "count(3)"
      ],
      "execution_count": null,
      "outputs": []
    },
    {
      "cell_type": "markdown",
      "metadata": {
        "id": "8GTG0ukpIfRm"
      },
      "source": [
        "#### [실습] 재귀 함수를 이용한 합계\n",
        "\n",
        "* `sum()` 함수 내부에서 `sum()` 함수를 호출\n",
        "* 재귀적으로 합계를 계산\n",
        "\n",
        "\n",
        "*   sum(5) => 5+4+3+2+1 => 15\n",
        "\n",
        "\n"
      ]
    },
    {
      "cell_type": "code",
      "metadata": {
        "id": "5oIubHWwHj_j"
      },
      "source": [
        "def sum(n)\n"
      ],
      "execution_count": null,
      "outputs": []
    },
    {
      "cell_type": "markdown",
      "metadata": {
        "id": "fB5LHNGv9v_U"
      },
      "source": [
        "[실습] 팩토리얼 함수(Factorial Function)\n",
        "\n",
        "* 팩토리얼(factorial) 함수는 대표적인 재귀 함수\n",
        "* 팩토리얼 함수: $n!=1 \\times 2 \\times 3 \\dots (n-2) \\times (n-1) \\times n = n! = n \\times (n-1)!$"
      ]
    },
    {
      "cell_type": "code",
      "metadata": {
        "id": "Mh_3nSfC9ggl"
      },
      "source": [],
      "execution_count": null,
      "outputs": []
    },
    {
      "cell_type": "markdown",
      "metadata": {
        "id": "zxfnzzyh_CVn"
      },
      "source": [
        "### 람다 함수(Lambda Function)\n",
        "\n",
        "* 함수를 한 줄로 간결하게 만들어 사용"
      ]
    },
    {
      "cell_type": "code",
      "metadata": {
        "id": "9_rEDZce1N4W"
      },
      "source": [],
      "execution_count": null,
      "outputs": []
    },
    {
      "cell_type": "code",
      "metadata": {
        "id": "Dm05soHF-7O1"
      },
      "source": [
        "def add1(n1,n2):\n",
        "    return n1 + n2\n",
        "\n",
        "print(add1(2,3))\n",
        "\n",
        "# 간략한 함수 선언\n",
        "add2 = lambda n1, n2 : n1+n2  \n",
        "print(add2(1,2))"
      ],
      "execution_count": null,
      "outputs": []
    },
    {
      "cell_type": "markdown",
      "metadata": {
        "id": "Rwi3kI22_tMu"
      },
      "source": [
        "#### map()\n",
        "\n",
        "* `map()`: iterable 한 데이터를 인자로 받아 list 안의 각 요소에 함수를 적용해 주는 함수\n"
      ]
    },
    {
      "cell_type": "code",
      "metadata": {
        "id": "1TajyYRT_Sld"
      },
      "source": [
        "aa = [10,20,30,40]\n",
        "square = lambda n : n*n\n",
        "\n",
        "\n"
      ],
      "execution_count": null,
      "outputs": []
    },
    {
      "cell_type": "code",
      "metadata": {
        "colab": {
          "base_uri": "https://localhost:8080/"
        },
        "id": "rMroI9vtq3kJ",
        "outputId": "0be6a843-25f7-46a8-db14-025821e8187f"
      },
      "source": [
        "# 함수명 대신에 람다 함수 정의 가능\n",
        "\n",
        "aa = [10,20,30,40]\n",
        "\n",
        "bb = list( map(lambda n : n*n ,aa) ) \n",
        "\n",
        "print(bb)\n"
      ],
      "execution_count": null,
      "outputs": [
        {
          "output_type": "stream",
          "text": [
            "[100, 400, 900, 1600]\n"
          ],
          "name": "stdout"
        }
      ]
    },
    {
      "cell_type": "code",
      "metadata": {
        "id": "9EvPF1VRrEWx"
      },
      "source": [
        "# 만약 리스트 안에 있는 값들을 str타입으로 변경하는 예제\n",
        "\n",
        "aa=[1,2,3,4,5]\n",
        "\n",
        "print(bb)\n",
        "\n",
        "cc='12345'\n",
        "\n",
        "print(dd)"
      ],
      "execution_count": null,
      "outputs": []
    },
    {
      "cell_type": "markdown",
      "metadata": {
        "id": "GjjDPmSgGST7"
      },
      "source": [
        "### filter()\n",
        "\n",
        "* filter함수는 특정 조건으로 걸러서 걸러진 요소들로 iterator객체를 만들어서 리턴\n"
      ]
    },
    {
      "cell_type": "code",
      "metadata": {
        "id": "Uplpmb0kGMVt"
      },
      "source": [
        "aa=list(range(10)) # 0~9\n",
        "res=[]\n",
        "\n",
        "# 짝수만 걸러주는 함수\n",
        "def is_even(n):\n",
        "    if n%2 == 0 :\n",
        "        return True\n",
        "    else :\n",
        "        return False\n",
        "\n",
        "for value in aa:\n",
        "     if is_even(value):\n",
        "        res.append(value)\n",
        "\n",
        "print(res)\n"
      ],
      "execution_count": null,
      "outputs": []
    },
    {
      "cell_type": "code",
      "metadata": {
        "id": "leVDnACkvtao"
      },
      "source": [
        "aa=list(range(10)) # 0~9\n",
        "\n",
        "def is_even(n):\n",
        "    if n%2 == 0 :\n",
        "        return True\n",
        "    else :\n",
        "        return False\n",
        "\n",
        "res = list( filter(is_even, aa) )\n",
        "print(res)\n",
        "\n",
        "res = list( filter( lambda n : n%2==0, aa))\n",
        "print(res)"
      ],
      "execution_count": null,
      "outputs": []
    }
  ]
}