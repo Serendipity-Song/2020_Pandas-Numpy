{
  "nbformat": 4,
  "nbformat_minor": 0,
  "metadata": {
    "kernelspec": {
      "display_name": "Python 3",
      "language": "python",
      "name": "python3"
    },
    "language_info": {
      "codemirror_mode": {
        "name": "ipython",
        "version": 3
      },
      "file_extension": ".py",
      "mimetype": "text/x-python",
      "name": "python",
      "nbconvert_exporter": "python",
      "pygments_lexer": "ipython3",
      "version": "3.7.1"
    },
    "colab": {
      "provenance": [],
      "include_colab_link": true
    }
  },
  "cells": [
    {
      "cell_type": "markdown",
      "metadata": {
        "id": "view-in-github",
        "colab_type": "text"
      },
      "source": [
        "<a href=\"https://colab.research.google.com/github/Serendipity-Song/Pandas_Numpy_2020/blob/main/numpy.ipynb\" target=\"_parent\"><img src=\"https://colab.research.google.com/assets/colab-badge.svg\" alt=\"Open In Colab\"/></a>"
      ]
    },
    {
      "cell_type": "code",
      "metadata": {
        "id": "NeZVwDFSjGA0"
      },
      "source": [
        "import matplotlib.pyplot as plt\n",
        "\n",
        "t = []\n",
        "p2 = []\n",
        "p3 = []\n",
        "for i in range(0, 50, 2) :\n",
        "    t.append(i / 10)          \n",
        "    p2.append((i / 10) ** 2)  \n",
        "    p3.append((i / 10) ** 3)  \n",
        "print(t)\n",
        "print(p2)\n",
        "print(p3)\n",
        "\n",
        "plt.plot(t, t, 'r--', t, p2, 'bs', t, p3, 'g^')\n",
        "plt.show()"
      ],
      "execution_count": null,
      "outputs": []
    },
    {
      "cell_type": "code",
      "metadata": {
        "colab": {
          "base_uri": "https://localhost:8080/",
          "height": 300
        },
        "id": "RXTDlAv6jGAu",
        "outputId": "70c7ac5b-b277-4d8c-8f4f-e14bc39a43e5"
      },
      "source": [
        "# numpy 라이브러리\n",
        "# 숫자 데이터를 쉽게 처리\n",
        "# 배열반환 , 같은 데이터타입, \n",
        "\n",
        "import matplotlib.pyplot as plt\n",
        "import numpy as np\n",
        "\n",
        "t = np.arange(0, 5, 0.2)   # 0~ 4까지 0.2간격으로\n",
        "print(t)\n",
        "\n",
        "plt.plot(t, t, 'r--', t, t**2, 'bs', t, t**3, 'g^')\n",
        "plt.show()"
      ],
      "execution_count": null,
      "outputs": [
        {
          "output_type": "stream",
          "text": [
            "[0.  0.2 0.4 0.6 0.8 1.  1.2 1.4 1.6 1.8 2.  2.2 2.4 2.6 2.8 3.  3.2 3.4\n",
            " 3.6 3.8 4.  4.2 4.4 4.6 4.8]\n"
          ],
          "name": "stdout"
        },
        {
          "output_type": "display_data",
          "data": {
            "image/png": "[encoded data removed]",
            "text/plain": [
              "<Figure size 432x288 with 1 Axes>"
            ]
          },
          "metadata": {
            "tags": [],
            "needs_background": "light"
          }
        }
      ]
    },
    {
      "cell_type": "code",
      "metadata": {
        "id": "ZJYPN0xugxHl"
      },
      "source": [
        "# numpy 함수"
      ],
      "execution_count": null,
      "outputs": []
    },
    {
      "cell_type": "code",
      "metadata": {
        "id": "Z7cR5-rXjGA1"
      },
      "source": [
        "import numpy as np\n",
        "print(np.sqrt(2))"
      ],
      "execution_count": null,
      "outputs": []
    },
    {
      "cell_type": "code",
      "metadata": {
        "id": "Uv-6fniUjGA1",
        "colab": {
          "base_uri": "https://localhost:8080/",
          "height": 205
        },
        "outputId": "4c5ea1da-91e6-4e7a-a4e7-7e1daf8dd696"
      },
      "source": [
        "print(np.pi)\n",
        "print(np.sin(0))\n",
        "print(np.cos(np.pi))"
      ],
      "execution_count": null,
      "outputs": [
        {
          "output_type": "error",
          "ename": "NameError",
          "evalue": "ignored",
          "traceback": [
            "\u001b[0;31m---------------------------------------------------------------------------\u001b[0m",
            "\u001b[0;31mNameError\u001b[0m                                 Traceback (most recent call last)",
            "\u001b[0;32m<ipython-input-1-c93a6146d66d>\u001b[0m in \u001b[0;36m<module>\u001b[0;34m()\u001b[0m\n\u001b[0;32m----> 1\u001b[0;31m \u001b[0mprint\u001b[0m\u001b[0;34m(\u001b[0m\u001b[0mnp\u001b[0m\u001b[0;34m.\u001b[0m\u001b[0mpi\u001b[0m\u001b[0;34m)\u001b[0m\u001b[0;34m\u001b[0m\u001b[0;34m\u001b[0m\u001b[0m\n\u001b[0m\u001b[1;32m      2\u001b[0m \u001b[0mprint\u001b[0m\u001b[0;34m(\u001b[0m\u001b[0mnp\u001b[0m\u001b[0;34m.\u001b[0m\u001b[0msin\u001b[0m\u001b[0;34m(\u001b[0m\u001b[0;36m0\u001b[0m\u001b[0;34m)\u001b[0m\u001b[0;34m)\u001b[0m\u001b[0;34m\u001b[0m\u001b[0;34m\u001b[0m\u001b[0m\n\u001b[1;32m      3\u001b[0m \u001b[0mprint\u001b[0m\u001b[0;34m(\u001b[0m\u001b[0mnp\u001b[0m\u001b[0;34m.\u001b[0m\u001b[0mcos\u001b[0m\u001b[0;34m(\u001b[0m\u001b[0mnp\u001b[0m\u001b[0;34m.\u001b[0m\u001b[0mpi\u001b[0m\u001b[0;34m)\u001b[0m\u001b[0;34m)\u001b[0m\u001b[0;34m\u001b[0m\u001b[0;34m\u001b[0m\u001b[0m\n",
            "\u001b[0;31mNameError\u001b[0m: name 'np' is not defined"
          ]
        }
      ]
    },
    {
      "cell_type": "code",
      "metadata": {
        "id": "1_U2TeZajGA2",
        "colab": {
          "base_uri": "https://localhost:8080/",
          "height": 241
        },
        "outputId": "402c2a0b-7497-4acd-a7d2-85142ca64dec"
      },
      "source": [
        "# numpy 라이브러리 안에 다양한 서브 라이브러리가 있다\n",
        "# random 서브 라이브러리 안의 rand 함수\n",
        "# rand(n) => 0~1 사이의 난수 n개 생성\n",
        "\n",
        "a = np.random.rand(5)\n",
        "print(a)\n",
        "print(type(a))\n"
      ],
      "execution_count": null,
      "outputs": [
        {
          "output_type": "error",
          "ename": "NameError",
          "evalue": "ignored",
          "traceback": [
            "\u001b[0;31m---------------------------------------------------------------------------\u001b[0m",
            "\u001b[0;31mNameError\u001b[0m                                 Traceback (most recent call last)",
            "\u001b[0;32m<ipython-input-2-5c81600dd28a>\u001b[0m in \u001b[0;36m<module>\u001b[0;34m()\u001b[0m\n\u001b[1;32m      3\u001b[0m \u001b[0;31m# rand(n) => 0~1 사이의 난수 n개 생성\u001b[0m\u001b[0;34m\u001b[0m\u001b[0;34m\u001b[0m\u001b[0;34m\u001b[0m\u001b[0m\n\u001b[1;32m      4\u001b[0m \u001b[0;34m\u001b[0m\u001b[0m\n\u001b[0;32m----> 5\u001b[0;31m \u001b[0ma\u001b[0m \u001b[0;34m=\u001b[0m \u001b[0mnp\u001b[0m\u001b[0;34m.\u001b[0m\u001b[0mrandom\u001b[0m\u001b[0;34m.\u001b[0m\u001b[0mrand\u001b[0m\u001b[0;34m(\u001b[0m\u001b[0;36m5\u001b[0m\u001b[0;34m)\u001b[0m\u001b[0;34m\u001b[0m\u001b[0;34m\u001b[0m\u001b[0m\n\u001b[0m\u001b[1;32m      6\u001b[0m \u001b[0mprint\u001b[0m\u001b[0;34m(\u001b[0m\u001b[0ma\u001b[0m\u001b[0;34m)\u001b[0m\u001b[0;34m\u001b[0m\u001b[0;34m\u001b[0m\u001b[0m\n\u001b[1;32m      7\u001b[0m \u001b[0mprint\u001b[0m\u001b[0;34m(\u001b[0m\u001b[0mtype\u001b[0m\u001b[0;34m(\u001b[0m\u001b[0ma\u001b[0m\u001b[0;34m)\u001b[0m\u001b[0;34m)\u001b[0m\u001b[0;34m\u001b[0m\u001b[0;34m\u001b[0m\u001b[0m\n",
            "\u001b[0;31mNameError\u001b[0m: name 'np' is not defined"
          ]
        }
      ]
    },
    {
      "cell_type": "code",
      "metadata": {
        "colab": {
          "base_uri": "https://localhost:8080/"
        },
        "id": "5yO2FLQ4IHfR",
        "outputId": "5ae799f5-60a9-4b58-9cec-f85625720d57"
      },
      "source": [
        "import random\n",
        "import numpy as np\n",
        "\n",
        "x = np.random.randint(10,100,10)  # 10~99 까지 난수 10개  \n",
        "print(x)\n",
        "\n",
        "y=[]\n",
        "for i in range(10):\n",
        "    y.append( random.randint(10,100) ) \n",
        "print(y)"
      ],
      "execution_count": null,
      "outputs": [
        {
          "output_type": "stream",
          "text": [
            "[32 64 16 68 13 95 74 95 84 75]\n",
            "[94, 68, 95, 61, 70, 49, 95, 57, 66, 98]\n"
          ],
          "name": "stdout"
        }
      ]
    },
    {
      "cell_type": "code",
      "metadata": {
        "id": "zfergcKhjGA2",
        "colab": {
          "base_uri": "https://localhost:8080/",
          "height": 259
        },
        "outputId": "9ab40051-c1eb-440a-caf7-964e697e523e"
      },
      "source": [
        "# 중복없이 난수 생성\n",
        "print(np.random.choice(10, 6, replace = False))\n",
        "\n",
        "# 오류 발생 이유 ??\n",
        "print(np.random.choice(4, 6, replace = False))"
      ],
      "execution_count": null,
      "outputs": [
        {
          "output_type": "stream",
          "text": [
            "[9 0 5 8 7 1]\n"
          ],
          "name": "stdout"
        },
        {
          "output_type": "error",
          "ename": "ValueError",
          "evalue": "ignored",
          "traceback": [
            "\u001b[0;31m---------------------------------------------------------------------------\u001b[0m",
            "\u001b[0;31mValueError\u001b[0m                                Traceback (most recent call last)",
            "\u001b[0;32m<ipython-input-4-c791dbbce493>\u001b[0m in \u001b[0;36m<module>\u001b[0;34m()\u001b[0m\n\u001b[1;32m      3\u001b[0m \u001b[0;34m\u001b[0m\u001b[0m\n\u001b[1;32m      4\u001b[0m \u001b[0;31m# 오류 발생 이유 ??\u001b[0m\u001b[0;34m\u001b[0m\u001b[0;34m\u001b[0m\u001b[0;34m\u001b[0m\u001b[0m\n\u001b[0;32m----> 5\u001b[0;31m \u001b[0mprint\u001b[0m\u001b[0;34m(\u001b[0m\u001b[0mnp\u001b[0m\u001b[0;34m.\u001b[0m\u001b[0mrandom\u001b[0m\u001b[0;34m.\u001b[0m\u001b[0mchoice\u001b[0m\u001b[0;34m(\u001b[0m\u001b[0;36m4\u001b[0m\u001b[0;34m,\u001b[0m \u001b[0;36m6\u001b[0m\u001b[0;34m,\u001b[0m \u001b[0mreplace\u001b[0m \u001b[0;34m=\u001b[0m \u001b[0;32mFalse\u001b[0m\u001b[0;34m)\u001b[0m\u001b[0;34m)\u001b[0m\u001b[0;34m\u001b[0m\u001b[0;34m\u001b[0m\u001b[0m\n\u001b[0m",
            "\u001b[0;32mmtrand.pyx\u001b[0m in \u001b[0;36mnumpy.random.mtrand.RandomState.choice\u001b[0;34m()\u001b[0m\n",
            "\u001b[0;31mValueError\u001b[0m: Cannot take a larger sample than population when 'replace=False'"
          ]
        }
      ]
    },
    {
      "cell_type": "code",
      "metadata": {
        "colab": {
          "base_uri": "https://localhost:8080/"
        },
        "id": "6cH3NzxyjGA2",
        "outputId": "e1783004-a1bc-4fc1-fcc8-bf073f516c7e"
      },
      "source": [
        "# 0~5 까지 10개 난수\n",
        "# p 확률 , 합이 1\n",
        "\n",
        "print(np.random.choice(6, 10, p=[0.1, 0.2, 0.3, 0.2, 0.1, 0.1]))"
      ],
      "execution_count": null,
      "outputs": [
        {
          "output_type": "stream",
          "text": [
            "[5 3 0 0 3 3 2 0 1 1]\n"
          ],
          "name": "stdout"
        }
      ]
    },
    {
      "cell_type": "code",
      "metadata": {
        "colab": {
          "base_uri": "https://localhost:8080/",
          "height": 282
        },
        "id": "7oAOwioqjGA3",
        "outputId": "efc8b56e-280f-4686-e3fc-102c80413219"
      },
      "source": [
        "import matplotlib.pyplot as plt\n",
        "import numpy as np\n",
        "\n",
        "dice = np.random.choice(6, 10)   \n",
        "print(dice)\n",
        "\n",
        "plt.hist(dice, bins = 6)\n",
        "plt.show()"
      ],
      "execution_count": null,
      "outputs": [
        {
          "output_type": "stream",
          "text": [
            "[0 3 5 3 4 1 3 0 4 2]\n"
          ],
          "name": "stdout"
        },
        {
          "output_type": "display_data",
          "data": {
            "image/png": "[encoded data removed]",
            "text/plain": [
              "<Figure size 432x288 with 1 Axes>"
            ]
          },
          "metadata": {
            "tags": [],
            "needs_background": "light"
          }
        }
      ]
    },
    {
      "cell_type": "code",
      "metadata": {
        "colab": {
          "base_uri": "https://localhost:8080/",
          "height": 265
        },
        "id": "CGzE2Kc4jGA3",
        "outputId": "34bce3e9-a69a-453d-e46a-155ff7e29627"
      },
      "source": [
        "# 많이 생성 할수록 확률이 맞음\n",
        "\n",
        "import matplotlib.pyplot as plt\n",
        "import numpy as np\n",
        "dice = np.random.choice(6, 1000000, p=[0.1, 0.2, 0.3, 0.2, 0.1, 0.1])\n",
        "\n",
        "plt.hist(dice, bins = 6)\n",
        "plt.show()"
      ],
      "execution_count": null,
      "outputs": [
        {
          "output_type": "display_data",
          "data": {
            "image/png": "[encoded data removed]",
            "text/plain": [
              "<Figure size 432x288 with 1 Axes>"
            ]
          },
          "metadata": {
            "tags": [],
            "needs_background": "light"
          }
        }
      ]
    },
    {
      "cell_type": "markdown",
      "metadata": {
        "id": "PuSyvuLBN-6W"
      },
      "source": [
        "**numpy array 생성하기**"
      ]
    },
    {
      "cell_type": "code",
      "metadata": {
        "id": "LQ3nNXx3jGA4"
      },
      "source": [
        "# 리스트나 튜플과 같은 연속 데이터는 numpy array로 변환 가능\n",
        "\n",
        "a = np.array([1,2,3,4])\n",
        "print(a)\n",
        "a = np.array((1,2,3,4))\n",
        "print(a)"
      ],
      "execution_count": null,
      "outputs": []
    },
    {
      "cell_type": "code",
      "metadata": {
        "id": "87onecYajGA4"
      },
      "source": [
        "# 리스트 처럼 인덱싱, 슬라이싱 가능\n",
        "print(a[1], a[-1])\n",
        "print(a[1:])"
      ],
      "execution_count": null,
      "outputs": []
    },
    {
      "cell_type": "code",
      "metadata": {
        "id": "rHruB7WFjGA4",
        "colab": {
          "base_uri": "https://localhost:8080/"
        },
        "outputId": "8c48828e-3d84-464d-a215-1f0cfaa09a0a"
      },
      "source": [
        "# 리스트는 여러 데이터타입 모두 가능 \n",
        "# numpy array 는 하나의 타입만 가능 \n",
        "# 숫자, 문자가 함께 저장되면 => 모두 문자로 변환\n",
        "\n",
        "a = np.array([1, 2,'3',4]) \n",
        "print(a)\n",
        "\n",
        "# 정수, 실수는 함께 저장 가능\n",
        "a = np.array([1, 2, 3.5, 4])\n",
        "print(a)  \n"
      ],
      "execution_count": null,
      "outputs": [
        {
          "output_type": "stream",
          "text": [
            "['1' '2' '3' '4']\n",
            "[1.  2.  3.5 4. ]\n"
          ],
          "name": "stdout"
        }
      ]
    },
    {
      "cell_type": "code",
      "metadata": {
        "id": "ACWQDIBkjGA4",
        "colab": {
          "base_uri": "https://localhost:8080/"
        },
        "outputId": "82f83006-fefa-416c-b749-799fa7c55004"
      },
      "source": [
        "# zeros, ones, eys 와 같은 함수로 배열을 초기화하여 생성\n",
        "import numpy as np\n",
        "\n",
        "a = np.zeros(10)   \n",
        "print(a)   \n"
      ],
      "execution_count": null,
      "outputs": [
        {
          "output_type": "stream",
          "text": [
            "[0. 0. 0. 0. 0. 0. 0. 0. 0. 0.]\n"
          ],
          "name": "stdout"
        }
      ]
    },
    {
      "cell_type": "code",
      "metadata": {
        "colab": {
          "base_uri": "https://localhost:8080/"
        },
        "id": "OoAFdlIGjGA5",
        "outputId": "19bdd8c4-b59f-4e50-cf9c-de7a234b7d47"
      },
      "source": [
        "a = np.ones(10)   # 1로 이루어진 크기가 10인 배열 생성\n",
        "print(a)"
      ],
      "execution_count": null,
      "outputs": [
        {
          "output_type": "stream",
          "text": [
            "[1. 1. 1. 1. 1. 1. 1. 1. 1. 1.]\n"
          ],
          "name": "stdout"
        }
      ]
    },
    {
      "cell_type": "code",
      "metadata": {
        "colab": {
          "base_uri": "https://localhost:8080/"
        },
        "id": "k0EOJjcBjGA5",
        "outputId": "0788dd24-e64f-4c6e-a46d-4f60de1fa47e"
      },
      "source": [
        "a = np.eye(3)     # 3 x 3의 단위 배열 생성\n",
        "print(a)"
      ],
      "execution_count": null,
      "outputs": [
        {
          "output_type": "stream",
          "text": [
            "[[1. 0. 0.]\n",
            " [0. 1. 0.]\n",
            " [0. 0. 1.]]\n"
          ],
          "name": "stdout"
        }
      ]
    },
    {
      "cell_type": "code",
      "metadata": {
        "id": "ncPSssI6jGA6",
        "colab": {
          "base_uri": "https://localhost:8080/"
        },
        "outputId": "2393dcbe-b370-4a7e-ff33-6ce4cf91f281"
      },
      "source": [
        "import numpy as np\n",
        "\n",
        "# 값이 하나면 : 0~ 값-1 까지의 정수생성하여 반환\n",
        "print(np.arange(3))  \n",
        "\n",
        "# 값이 두개 : 첫번째 숫자부터 두번째 숫자 -1 배열 \n",
        "print(np.arange(3,7)) \n",
        "\n",
        "# 값이 세개 : 시작, 끝-1, 스텝\n",
        "print(np.arange(3,7,2)) # arange( ) 함수에 3개 값 입력\n"
      ],
      "execution_count": null,
      "outputs": [
        {
          "output_type": "stream",
          "text": [
            "[0 1 2]\n",
            "[3 4 5 6]\n",
            "[3 5]\n"
          ],
          "name": "stdout"
        }
      ]
    },
    {
      "cell_type": "code",
      "metadata": {
        "colab": {
          "base_uri": "https://localhost:8080/"
        },
        "id": "KcL2uZPj8dbQ",
        "outputId": "428a6ca4-a4b7-48c4-8759-751ee63494b3"
      },
      "source": [
        "# n차원의 배열 생성\n",
        "# 3차원까지 가능\n",
        "\n",
        "x = np.arange(10)\n",
        "print(x)\n",
        "print(x[3])\n",
        "\n",
        "x = np.arange(6).reshape(2,3)\n",
        "print(x)\n",
        "print(x[1][2])\n",
        "\n",
        "x = np.arange(18).reshape(2,3,3)\n",
        "print(x)\n",
        "print(x[1][2][2])"
      ],
      "execution_count": null,
      "outputs": [
        {
          "output_type": "stream",
          "text": [
            "[0 1 2 3 4 5 6 7 8 9]\n",
            "3\n",
            "[[0 1 2]\n",
            " [3 4 5]]\n",
            "5\n",
            "[[[ 0  1  2]\n",
            "  [ 3  4  5]\n",
            "  [ 6  7  8]]\n",
            "\n",
            " [[ 9 10 11]\n",
            "  [12 13 14]\n",
            "  [15 16 17]]]\n",
            "17\n"
          ],
          "name": "stdout"
        }
      ]
    },
    {
      "cell_type": "code",
      "metadata": {
        "id": "-mm5_7gpjGA6",
        "colab": {
          "base_uri": "https://localhost:8080/"
        },
        "outputId": "3b198d90-3243-439c-8079-97559f8d608a"
      },
      "source": [
        "# arange 함수   : 특정 간격에 해당하는 값을 생성 \n",
        "# linspace 함수 : 특정 갯수의 구간으로 나눈 값을 생성\n",
        "\n",
        "a = np.arange(1, 2, 0.1)    # 1이상 2미만의 0.1 간격\n",
        "b = np.linspace(1, 2, 5)    # 1부터 2까지 5개의 구간으로 나눈 실수 생성\n",
        "print(a)\n",
        "print(b)"
      ],
      "execution_count": null,
      "outputs": [
        {
          "output_type": "stream",
          "text": [
            "[1.  1.1 1.2 1.3 1.4 1.5 1.6 1.7 1.8 1.9]\n",
            "[1.   1.25 1.5  1.75 2.  ]\n"
          ],
          "name": "stdout"
        }
      ]
    },
    {
      "cell_type": "code",
      "metadata": {
        "id": "jzYVjaArjGA6",
        "colab": {
          "base_uri": "https://localhost:8080/"
        },
        "outputId": "0dc4142a-dfc4-4c55-f338-bfd73535c365"
      },
      "source": [
        "a = np.arange(-np.pi, np.pi, np.pi/10)\n",
        "b = np.linspace(-np.pi, np.pi, 20)\n",
        "print(a)\n",
        "print(b)"
      ],
      "execution_count": null,
      "outputs": [
        {
          "output_type": "stream",
          "text": [
            "[-3.14159265 -2.82743339 -2.51327412 -2.19911486 -1.88495559 -1.57079633\n",
            " -1.25663706 -0.9424778  -0.62831853 -0.31415927  0.          0.31415927\n",
            "  0.62831853  0.9424778   1.25663706  1.57079633  1.88495559  2.19911486\n",
            "  2.51327412  2.82743339]\n",
            "[-3.14159265 -2.81089869 -2.48020473 -2.14951076 -1.8188168  -1.48812284\n",
            " -1.15742887 -0.82673491 -0.49604095 -0.16534698  0.16534698  0.49604095\n",
            "  0.82673491  1.15742887  1.48812284  1.8188168   2.14951076  2.48020473\n",
            "  2.81089869  3.14159265]\n"
          ],
          "name": "stdout"
        }
      ]
    },
    {
      "cell_type": "code",
      "metadata": {
        "id": "6lVAFj3WZoiE"
      },
      "source": [
        "# 배열에 연산 가능!\n",
        "# 특정 초기값 갖는 배열 생성\n",
        "\n",
        "a = np.zeros(10) + 5\n",
        "print(a)"
      ],
      "execution_count": null,
      "outputs": []
    },
    {
      "cell_type": "code",
      "metadata": {
        "id": "LhQdUs0FjGA6"
      },
      "source": [
        "# 배열에 연산이 아닌 함수도 적용 가능\n",
        "\n",
        "a = np.arange(1,10)\n",
        "print(a)\n",
        "print ( np.sqrt(a) )"
      ],
      "execution_count": null,
      "outputs": []
    },
    {
      "cell_type": "code",
      "metadata": {
        "scrolled": true,
        "id": "p0mE9KNSjGA7"
      },
      "source": [
        "# numpy array 에 연산이나 함수를 적용하면 배열의 모든 값에 계산됨\n",
        "\n",
        "import matplotlib.pyplot as plt\n",
        "import numpy as np\n",
        "\n",
        "a = np.arange(-np.pi, np.pi, np.pi/100)\n",
        "\n",
        "plt.plot(a, np.sin(a)) # x축, y축\n",
        "plt.show()"
      ],
      "execution_count": null,
      "outputs": []
    },
    {
      "cell_type": "code",
      "metadata": {
        "scrolled": true,
        "colab": {
          "base_uri": "https://localhost:8080/",
          "height": 362
        },
        "id": "vFM2p5yUjGA7",
        "outputId": "085641e9-c24d-49a8-c3bd-b1e7f2c0451f"
      },
      "source": [
        "plt.figure(dpi = 100)\n",
        "\n",
        "plt.plot(a, np.sin(a) )\n",
        "plt.plot(a, np.cos(a) )\n",
        "plt.plot(a + np.pi / 2, np.sin(a) )  # sin 함수의 평행이동 \n",
        "\n",
        "plt.show()"
      ],
      "execution_count": null,
      "outputs": [
        {
          "output_type": "display_data",
          "data": {
            "image/png": "[encoded data removed]",
            "text/plain": [
              "<Figure size 600x400 with 1 Axes>"
            ]
          },
          "metadata": {
            "tags": [],
            "needs_background": "light"
          }
        }
      ]
    },
    {
      "cell_type": "code",
      "metadata": {
        "colab": {
          "base_uri": "https://localhost:8080/"
        },
        "id": "KJAJLDkui2lt",
        "outputId": "bba79171-dd29-4d9d-cf5d-c0ca2ed070b9"
      },
      "source": [
        "# 배열 => 리스트 , 튜플, set 으로 변경가능\n",
        "\n",
        "aa=[3,5,9,7,1,3,5,4,6]\n",
        "bb = np.array(aa)\n",
        "print(bb)\n",
        "cc= list(bb)\n",
        "print(cc)\n",
        "dd= tuple(bb)\n",
        "print(dd)\n",
        "dd= set(bb)\n",
        "print(dd)"
      ],
      "execution_count": null,
      "outputs": [
        {
          "output_type": "stream",
          "text": [
            "[3 5 9 7 1 3 5 4 6]\n",
            "[3, 5, 9, 7, 1, 3, 5, 4, 6]\n",
            "(3, 5, 9, 7, 1, 3, 5, 4, 6)\n",
            "{1, 3, 4, 5, 6, 7, 9}\n"
          ],
          "name": "stdout"
        }
      ]
    },
    {
      "cell_type": "code",
      "metadata": {
        "id": "u6OxOGXAjGA7"
      },
      "source": [
        "a = np.arange(-5, 5)  # -5 ~ 4 까지 배열 생성"
      ],
      "execution_count": null,
      "outputs": []
    },
    {
      "cell_type": "code",
      "metadata": {
        "id": "TTtbMx8fjGA7",
        "colab": {
          "base_uri": "https://localhost:8080/"
        },
        "outputId": "66f73e53-5c76-44df-ddf3-b4fd92d39c7b"
      },
      "source": [
        "# 배열 전체에 조건을 적용  \n",
        "# 만족하는 데이터는 True, 아니면 False => 마스크 생성\n",
        "\n",
        "a = np.arange(-5, 5) \n",
        "print(a < 0)"
      ],
      "execution_count": null,
      "outputs": [
        {
          "output_type": "stream",
          "text": [
            "[ True  True  True  True  True False False False False False]\n"
          ],
          "name": "stdout"
        }
      ]
    },
    {
      "cell_type": "code",
      "metadata": {
        "id": "Y0SfN3frjGA7",
        "colab": {
          "base_uri": "https://localhost:8080/"
        },
        "outputId": "8d700d33-3202-4c91-e72c-f0b73f2d7324"
      },
      "source": [
        "# 마스크를 다시 배열에 적용하면 부합하는 데이터만 추출\n",
        "# 즉 a 배열에서 조건을 만족하는 값만 추출\n",
        "\n",
        "a = np.arange(-5, 5) \n",
        "print(a[ a<0 ] ) "
      ],
      "execution_count": null,
      "outputs": [
        {
          "output_type": "stream",
          "text": [
            "[-5 -4 -3 -2 -1]\n"
          ],
          "name": "stdout"
        }
      ]
    },
    {
      "cell_type": "code",
      "metadata": {
        "id": "OHTeEe4fjGA7",
        "colab": {
          "base_uri": "https://localhost:8080/"
        },
        "outputId": "1f14ee9e-2b33-4723-dc08-f58aba6d274b"
      },
      "source": [
        "# 조건을 저장 \n",
        "mask1 = abs(a) > 3\n",
        "print(a[mask1])"
      ],
      "execution_count": null,
      "outputs": [
        {
          "output_type": "stream",
          "text": [
            "[-5 -4  4]\n"
          ],
          "name": "stdout"
        }
      ]
    },
    {
      "cell_type": "code",
      "metadata": {
        "id": "7-VTddMZjGA8",
        "colab": {
          "base_uri": "https://localhost:8080/"
        },
        "outputId": "11202715-f5dd-4f21-fb16-38b7474ea1c4"
      },
      "source": [
        "# 조건이 여러개일 경우\n",
        "# 조건을 저장한후 연산 ( and => *, or => + )\n",
        "mask1 = abs(a) > 3\n",
        "mask2 = abs(a) % 2 ==0\n",
        "print(a[mask1 + mask2]) # 둘 중 하나의 조건이라도 참일 경우\n",
        "print(a[mask1 * mask2]) # 두 가지 조건이 모두 참일 경우"
      ],
      "execution_count": null,
      "outputs": [
        {
          "output_type": "stream",
          "text": [
            "[-5 -4 -2  0  2  4]\n",
            "[-4  4]\n"
          ],
          "name": "stdout"
        }
      ]
    },
    {
      "cell_type": "code",
      "metadata": {
        "id": "JBOzkl25ovXi",
        "colab": {
          "base_uri": "https://localhost:8080/"
        },
        "outputId": "f42bc798-0032-40cf-dd11-f3877557b030"
      },
      "source": [
        "# numpy 조건 검색\n",
        "# np.where() 함수\n",
        "\n",
        "a = np.array( np.random.randint(0, 101, 20) )\n",
        "print(a)\n",
        "\n",
        "# np.where(조건) => 인덱스 반환\n",
        "print(  np.where( a>70 )  )\n",
        "print(  np.where( a==70 )  )\n",
        "\n",
        "#np.where(condition, T, F) \n",
        "print ( np.where(a > 50, True, False) )\n",
        "print ( np.where(a > 50, 'a','b') )\n",
        "print ( np.where(a > 50, a+100,a-100) )\n",
        "print ( np.where(a > 50, a,0 ) )\n",
        "\n",
        "# 조건 여러개\n",
        "# and => &, or => |\n",
        "print ( np.where( ((a > 50) & (a < 80)) , a, 0 ) )\n",
        "print ( np.where( ((a < 10) | (a > 90)) , a, 0 ) )\n",
        "\n",
        "# 값 반환  ***\n",
        "print ( a[ np.where(a>80) ] )\n",
        "\n",
        "# 함수 : max, min, sort \n",
        "print ( np.max(a) )\n",
        "print ( np.min(a) )\n",
        "print ( np.sort(a) )\n",
        "print ( len( a[ np.where(a>80) ] ) ) # 조건을 만족하는 것의 갯수\n"
      ],
      "execution_count": null,
      "outputs": [
        {
          "output_type": "stream",
          "text": [
            "[35 71 50  5 37 28 52 60 14 44 85 51 85 92  7 66 19 96  0 24]\n",
            "(array([ 1, 10, 12, 13, 17]),)\n",
            "(array([], dtype=int64),)\n",
            "[False  True False False False False  True  True False False  True  True\n",
            "  True  True False  True False  True False False]\n",
            "['b' 'a' 'b' 'b' 'b' 'b' 'a' 'a' 'b' 'b' 'a' 'a' 'a' 'a' 'b' 'a' 'b' 'a'\n",
            " 'b' 'b']\n",
            "[ -65  171  -50  -95  -63  -72  152  160  -86  -56  185  151  185  192\n",
            "  -93  166  -81  196 -100  -76]\n",
            "[ 0 71  0  0  0  0 52 60  0  0 85 51 85 92  0 66  0 96  0  0]\n",
            "[ 0 71  0  0  0  0 52 60  0  0  0 51  0  0  0 66  0  0  0  0]\n",
            "[ 0  0  0  5  0  0  0  0  0  0  0  0  0 92  7  0  0 96  0  0]\n",
            "[85 85 92 96]\n",
            "96\n",
            "0\n",
            "[ 0  5  7 14 19 24 28 35 37 44 50 51 52 60 66 71 85 85 92 96]\n",
            "4\n"
          ],
          "name": "stdout"
        }
      ]
    }
  ]
}