{
  "nbformat": 4,
  "nbformat_minor": 0,
  "metadata": {
    "colab": {
      "provenance": [],
      "include_colab_link": true
    },
    "kernelspec": {
      "name": "python3",
      "display_name": "Python 3"
    }
  },
  "cells": [
    {
      "cell_type": "markdown",
      "metadata": {
        "id": "view-in-github",
        "colab_type": "text"
      },
      "source": [
        "<a href=\"https://colab.research.google.com/github/Serendipity-Song/Pandas_Numpy_2020/blob/main/%EB%A6%AC%EC%8A%A4%ED%8A%B8_Quiz_%ED%92%80%EC%9D%B4.ipynb\" target=\"_parent\"><img src=\"https://colab.research.google.com/assets/colab-badge.svg\" alt=\"Open In Colab\"/></a>"
      ]
    },
    {
      "cell_type": "code",
      "metadata": {
        "colab": {
          "base_uri": "https://localhost:8080/"
        },
        "id": "EtWnPyOUcWvz",
        "outputId": "3f65e037-9388-47ed-cd9f-2e106e4c8b07"
      },
      "source": [
        "# 리스트 문제 \n",
        "# 난수발생 => 분포도 출력\n",
        "\n",
        "import random\n",
        "aa = []\n",
        "\n",
        "## 난수 생성\n",
        "for i in range(0, 100) :\n",
        "   aa.append( random.randrange(0, 10) ) # 0~9\n",
        "\n",
        "## 하트 출력\n",
        "for i in range(0, 10) :   \n",
        "    print(\"%d : \" % i , end=\"\")\n",
        "    num = aa.count(i)\n",
        "        \n",
        "    for j in range(0, num) :\n",
        "        print(\"☆\", end=\"\")\n",
        "\n",
        "    print( \"%3d\" % num )\n"
      ],
      "execution_count": null,
      "outputs": [
        {
          "output_type": "stream",
          "text": [
            "0 : ☆☆☆☆☆☆☆☆  8\n",
            "1 : ☆☆☆☆☆☆☆☆☆☆☆☆☆☆ 14\n",
            "2 : ☆☆☆☆☆☆☆☆☆  9\n",
            "3 : ☆☆☆☆☆☆☆☆  8\n",
            "4 : ☆☆☆☆☆☆☆☆☆☆☆☆☆ 13\n",
            "5 : ☆☆☆☆☆☆  6\n",
            "6 : ☆☆☆☆☆☆☆☆☆☆☆☆☆ 13\n",
            "7 : ☆☆☆☆☆☆☆☆☆☆☆☆ 12\n",
            "8 : ☆☆☆☆☆☆☆  7\n",
            "9 : ☆☆☆☆☆☆☆☆☆☆ 10\n"
          ],
          "name": "stdout"
        }
      ]
    },
    {
      "cell_type": "code",
      "metadata": {
        "colab": {
          "base_uri": "https://localhost:8080/"
        },
        "id": "jbsLezOWodD2",
        "outputId": "e5f7c08f-e757-48f0-b1cf-8a41440c861c"
      },
      "source": [
        "import random\n",
        "\n",
        "aa = []\n",
        "grade =[0,0,0,0,0,0,0,0,0,0]\n",
        "\n",
        "## 난수 생성\n",
        "for i in range(0, 100) :\n",
        "   aa.append(random.randrange(0, 100))\n",
        "\n",
        "## 등급별 갯수\n",
        "for i in range(0, 100) :\n",
        "   index = aa[i] // 10 ;\n",
        "   grade[ index ] = grade [index] + 1 ;\n",
        "   \n",
        "## 하트 출력\n",
        "for i in range(0, 10) :\n",
        "    print(\"%3d ~ %3d : \" % (i * 10 ,  i*10+9 ) , end=\"\")\n",
        "       \n",
        "    for j in range(0, grade[i]) :\n",
        "        print(\"☆\", end=\"\")\n",
        "\n",
        "    print( \"%3d\" % grade[i] ) "
      ],
      "execution_count": null,
      "outputs": [
        {
          "output_type": "stream",
          "text": [
            "  0 ~   9 : ☆☆☆☆☆☆☆☆☆☆ 10\n",
            " 10 ~  19 : ☆☆☆☆☆☆☆☆☆☆ 10\n",
            " 20 ~  29 : ☆☆☆☆☆☆☆☆☆☆☆☆☆☆ 14\n",
            " 30 ~  39 : ☆☆☆☆☆☆☆☆☆☆ 10\n",
            " 40 ~  49 : ☆☆☆☆☆☆☆☆  8\n",
            " 50 ~  59 : ☆☆☆☆☆☆☆☆☆☆ 10\n",
            " 60 ~  69 : ☆☆☆☆☆☆☆☆  8\n",
            " 70 ~  79 : ☆☆☆☆☆☆☆☆☆☆☆☆ 12\n",
            " 80 ~  89 : ☆☆☆☆☆☆☆☆☆☆☆ 11\n",
            " 90 ~  99 : ☆☆☆☆☆☆☆  7\n"
          ],
          "name": "stdout"
        }
      ]
    },
    {
      "cell_type": "code",
      "metadata": {
        "colab": {
          "base_uri": "https://localhost:8080/"
        },
        "id": "bMF2eEqjdHHE",
        "outputId": "36e3746a-7668-4879-be34-841b56aea9ff"
      },
      "source": [
        "## 숫자를 입력받아 하트 출력하기 - 버전 2\n",
        "\n",
        "nums = list(input(\"숫자 여러개를 입력하세요 : \"))\n",
        "size= len(nums)\n",
        "\n",
        "for i in range(0, size) :\n",
        "    num = int(nums[i])\n",
        "    \n",
        "    for j in range(0, num) :\n",
        "            print(\"♥\", end=\"\")\n",
        "    print(\"\")"
      ],
      "execution_count": null,
      "outputs": [
        {
          "output_type": "stream",
          "text": [
            "숫자 여러개를 입력하세요 : 3847\n",
            "♥♥♥\n",
            "♥♥♥♥♥♥♥♥\n",
            "♥♥♥♥\n",
            "♥♥♥♥♥♥♥\n"
          ],
          "name": "stdout"
        }
      ]
    },
    {
      "cell_type": "code",
      "metadata": {
        "colab": {
          "base_uri": "https://localhost:8080/"
        },
        "id": "Vr6wuL71gCrx",
        "outputId": "048a0152-f13d-4206-bd0b-73e94add83ee"
      },
      "source": [
        "# 리스트 목록에서 입력된 값보다 큰 값만 검색\n",
        "# 0~100 사이의 5의 배수 => 리스트에 저장\n",
        "# 원본리스트와 조건 체크 후 만족한 값들만 담은 리스트 출력\n",
        "\n",
        "aa= list(range(0,100,5) )\n",
        "bb=[]\n",
        "\n",
        "num = int(input(\"입력된 값보다 큰 값만 검색 : \"))\n",
        "\n",
        "for i in aa : \n",
        "    if i > num :\n",
        "        bb.append(i)\n",
        "    \n",
        "print(\"원본 리스트 : \" , aa )\n",
        "print(\"조건 체크후 리스트 : \" , bb )"
      ],
      "execution_count": null,
      "outputs": [
        {
          "output_type": "stream",
          "text": [
            "입력된 값보다 큰 값만 검색 : 80\n",
            "원본 리스트 :  [0, 5, 10, 15, 20, 25, 30, 35, 40, 45, 50, 55, 60, 65, 70, 75, 80, 85, 90, 95]\n",
            "조건 체크후 리스트 :  [85, 90, 95]\n"
          ],
          "name": "stdout"
        }
      ]
    },
    {
      "cell_type": "code",
      "metadata": {
        "colab": {
          "base_uri": "https://localhost:8080/"
        },
        "id": "XSvUTdFQilV0",
        "outputId": "a7d692eb-d55c-4527-a411-f48f354c3e02"
      },
      "source": [
        "# 중복된 값은 한번만 출력 # 1\n",
        "\n",
        "aa=[1,1,1,2,2,2,2,3,3,3,3,4,4,4]\n",
        "\n",
        "print(\"원본 리스트  : \" , aa)\n",
        "\n",
        "bb=list( set(aa) )\n",
        "print(\"중복 제거 후 : \" , bb )\n",
        " "
      ],
      "execution_count": null,
      "outputs": [
        {
          "output_type": "stream",
          "text": [
            "원본 리스트  :  [1, 1, 1, 2, 2, 2, 2, 3, 3, 3, 3, 4, 4, 4]\n",
            "중복 제거 후 :  [1, 2, 3, 4]\n"
          ],
          "name": "stdout"
        }
      ]
    },
    {
      "cell_type": "code",
      "metadata": {
        "colab": {
          "base_uri": "https://localhost:8080/"
        },
        "id": "ehhldDanmBd6",
        "outputId": "ad3f4f96-2ab1-4604-ea2d-d2d2aa0b2c07"
      },
      "source": [
        "# 중복된 값은 한번만 출력 # 2\n",
        "aa=[1,1,1,2,2,2,2,3,3,3,3,4,4,4]\n",
        "bb=[]\n",
        "\n",
        "for i in aa:\n",
        "    if i not in bb :\n",
        "        bb.append(i)\n",
        "\n",
        "print(aa)\n",
        "print(bb)\n"
      ],
      "execution_count": null,
      "outputs": [
        {
          "output_type": "stream",
          "text": [
            "[1, 1, 1, 2, 2, 2, 2, 3, 3, 3, 3, 4, 4, 4]\n",
            "[1, 2, 3, 4]\n"
          ],
          "name": "stdout"
        }
      ]
    },
    {
      "cell_type": "code",
      "metadata": {
        "colab": {
          "base_uri": "https://localhost:8080/"
        },
        "id": "_ggJeZswkV6O",
        "outputId": "03aed90a-95a5-4b07-a9d7-3926e31dd524"
      },
      "source": [
        "# 중복된 값은 한번만 출력 # 3\n",
        "# 중복값과 중복횟수 딕셔너리에 담기\n",
        "\n",
        "aa=[1,1,1,2,2,2,2,3,3,3,3,4,4,4]\n",
        "bb=[]\n",
        "\n",
        "dic ={}\n",
        "for i in aa:\n",
        "    if i not in bb :\n",
        "        bb.append(i)\n",
        "        dic[i]= aa.count(i)\n",
        "\n",
        "print(aa)\n",
        "print(bb)\n",
        "print(dic)"
      ],
      "execution_count": null,
      "outputs": [
        {
          "output_type": "stream",
          "text": [
            "[1, 1, 1, 2, 2, 2, 2, 3, 3, 3, 3, 4, 4, 4]\n",
            "[1, 2, 3, 4]\n",
            "{1: 3, 2: 4, 3: 4, 4: 3}\n"
          ],
          "name": "stdout"
        }
      ]
    }
  ]
}
