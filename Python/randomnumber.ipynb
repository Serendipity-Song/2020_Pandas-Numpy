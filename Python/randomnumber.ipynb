{
  "nbformat": 4,
  "nbformat_minor": 0,
  "metadata": {
    "colab": {
      "provenance": [],
      "authorship_tag": "ABX9TyPTm/JWwcxrN1BkpFZIUfhY",
      "include_colab_link": true
    },
    "kernelspec": {
      "name": "python3",
      "display_name": "Python 3"
    }
  },
  "cells": [
    {
      "cell_type": "markdown",
      "metadata": {
        "id": "view-in-github",
        "colab_type": "text"
      },
      "source": [
        "<a href=\"https://colab.research.google.com/github/Serendipity-Song/Pandas_Numpy_2020/blob/main/Untitled6.ipynb\" target=\"_parent\"><img src=\"https://colab.research.google.com/assets/colab-badge.svg\" alt=\"Open In Colab\"/></a>"
      ]
    },
    {
      "cell_type": "code",
      "metadata": {
        "id": "nfqwMSM_bR-E"
      },
      "source": [
        "int(print(숫자 여러개를 입력하세요:))\n",
        "\n",
        "if\n",
        "\\n\n"
      ],
      "execution_count": null,
      "outputs": []
    },
    {
      "cell_type": "code",
      "metadata": {
        "colab": {
          "base_uri": "https://localhost:8080/"
        },
        "id": "hBUoq_OOcSRR",
        "outputId": "990e309f-40be-4f6b-9dd3-635f7cac4825"
      },
      "source": [
        "#난수발생 : 0~99 까지의 난수 100개 리스트에 저장\n",
        "\n",
        "import random\n",
        "\n",
        "aa=[]\n",
        "\n",
        "for i in range(0,100) :\n",
        "  aa.append(random.randrange(0,100))\n",
        "\n",
        "print(aa)"
      ],
      "execution_count": null,
      "outputs": [
        {
          "output_type": "stream",
          "text": [
            "[78, 44, 8, 51, 6, 45, 96, 63, 71, 63, 91, 97, 24, 16, 72, 38, 89, 53, 52, 22, 60, 23, 39, 79, 76, 53, 91, 82, 3, 16, 58, 77, 13, 19, 65, 42, 74, 13, 37, 86, 36, 12, 58, 74, 39, 59, 77, 71, 19, 46, 69, 66, 70, 30, 0, 49, 67, 13, 87, 32, 23, 57, 19, 79, 93, 16, 3, 85, 73, 46, 97, 22, 30, 37, 79, 53, 44, 79, 0, 46, 54, 62, 54, 25, 54, 48, 84, 94, 11, 27, 24, 61, 56, 30, 13, 7, 64, 79, 26, 98]\n"
          ],
          "name": "stdout"
        }
      ]
    },
    {
      "cell_type": "code",
      "metadata": {
        "id": "tpard3mDchpA"
      },
      "source": [],
      "execution_count": null,
      "outputs": []
    }
  ]
}
